{
  "nbformat": 4,
  "nbformat_minor": 0,
  "metadata": {
    "colab": {
      "name": "Copy of LastTest Classification with ANALYSIS_ML.ipynb",
      "provenance": []
    },
    "kernelspec": {
      "name": "python3",
      "display_name": "Python 3"
    }
  },
  "cells": [
    {
      "cell_type": "code",
      "metadata": {
        "id": "BNvJONZjEZsK",
        "colab": {
          "base_uri": "https://localhost:8080/",
          "height": 118
        },
        "outputId": "54f60fe9-7c29-4fce-e660-39677a2788d5"
      },
      "source": [
        "from google.colab import drive\n",
        "drive.mount('/content/drive')"
      ],
      "execution_count": null,
      "outputs": [
        {
          "output_type": "stream",
          "text": [
            "Go to this URL in a browser: https://accounts.google.com/o/oauth2/auth?client_id=947318989803-6bn6qk8qdgf4n4g3pfee6491hc0brc4i.apps.googleusercontent.com&redirect_uri=urn%3aietf%3awg%3aoauth%3a2.0%3aoob&response_type=code&scope=email%20https%3a%2f%2fwww.googleapis.com%2fauth%2fdocs.test%20https%3a%2f%2fwww.googleapis.com%2fauth%2fdrive%20https%3a%2f%2fwww.googleapis.com%2fauth%2fdrive.photos.readonly%20https%3a%2f%2fwww.googleapis.com%2fauth%2fpeopleapi.readonly\n",
            "\n",
            "Enter your authorization code:\n",
            "··········\n",
            "Mounted at /content/drive\n"
          ],
          "name": "stdout"
        }
      ]
    },
    {
      "cell_type": "code",
      "metadata": {
        "id": "1ZPKW2S_Eblj",
        "colab": {
          "base_uri": "https://localhost:8080/",
          "height": 70
        },
        "outputId": "861b00b6-dec1-4acb-f4da-9be9dcdaafdf"
      },
      "source": [
        "import logging\n",
        "import pandas as pd\n",
        "import numpy as np\n",
        "from numpy import random\n",
        "import gensim\n",
        "import nltk\n",
        "from sklearn.model_selection import train_test_split\n",
        "from sklearn.feature_extraction.text import CountVectorizer, TfidfVectorizer\n",
        "from sklearn.metrics import accuracy_score, confusion_matrix\n",
        "import matplotlib.pyplot as plt\n",
        "from nltk.corpus import stopwords\n",
        "import re\n",
        "from bs4 import BeautifulSoup\n",
        "\n",
        "\n",
        "\n",
        "import seaborn as sns\n",
        "sns.set_style(\"whitegrid\")\n",
        "\n",
        "\n",
        "\n",
        "# Code for hiding seaborn warnings\n",
        "import warnings\n",
        "warnings.filterwarnings(\"ignore\")\n",
        "\n",
        "%matplotlib inline\n",
        "# Text Classifiation using NLP"
      ],
      "execution_count": null,
      "outputs": [
        {
          "output_type": "stream",
          "text": [
            "/usr/local/lib/python3.6/dist-packages/statsmodels/tools/_testing.py:19: FutureWarning: pandas.util.testing is deprecated. Use the functions in the public API at pandas.testing instead.\n",
            "  import pandas.util.testing as tm\n"
          ],
          "name": "stderr"
        }
      ]
    },
    {
      "cell_type": "code",
      "metadata": {
        "id": "tvk5v8zHEx_w",
        "colab": {
          "base_uri": "https://localhost:8080/",
          "height": 66
        },
        "outputId": "0d8acb9e-59a4-4bf2-f857-2ed50e22468d"
      },
      "source": [
        "#Importing the libraries\n",
        "import numpy as np\n",
        "import re\n",
        "import pickle \n",
        "import nltk\n",
        "from nltk.corpus import stopwords\n",
        "from sklearn.datasets import load_files\n",
        "nltk.download('stopwords')"
      ],
      "execution_count": null,
      "outputs": [
        {
          "output_type": "stream",
          "text": [
            "[nltk_data] Downloading package stopwords to /root/nltk_data...\n",
            "[nltk_data]   Unzipping corpora/stopwords.zip.\n"
          ],
          "name": "stdout"
        },
        {
          "output_type": "execute_result",
          "data": {
            "text/plain": [
              "True"
            ]
          },
          "metadata": {
            "tags": []
          },
          "execution_count": 3
        }
      ]
    },
    {
      "cell_type": "code",
      "metadata": {
        "id": "8qD0g2m-Tio8"
      },
      "source": [
        "# Importing the dataset\n",
        "reviews = pd.read_csv('/content/drive/My Drive/depression.csv',encoding=\"UTF-8\",header=None)\n",
        "\n",
        "y= reviews[1]\n",
        "X=reviews[0]\n",
        "\n",
        "X_train, X_test, y_train, y_test = train_test_split(X, y, test_size=0.3,random_state = 42,shuffle=True)\n"
      ],
      "execution_count": null,
      "outputs": []
    },
    {
      "cell_type": "code",
      "metadata": {
        "id": "6jb8MqARJcZU",
        "colab": {
          "base_uri": "https://localhost:8080/",
          "height": 50
        },
        "outputId": "85247630-6801-452c-b260-e627eb5c9a4f"
      },
      "source": [
        "nltk.download('punkt')\n",
        "with open('/content/drive/My Drive/stopwords-bnnew.txt', 'r', encoding='utf-8') as bn:\n",
        "        bangla_stop_words = [line.strip() for line in bn]\n",
        "\n",
        "from nltk.tokenize import word_tokenize \n",
        "REPLACE_BY_SPACE_RE = re.compile('[/(){}\\[\\]\\|@,;]')\n",
        "BAD_SYMBOLS_RE = re.compile('[^0-9a-z #+_]')\n",
        "\n",
        "def clean_text(text):\n",
        "    \"\"\"\n",
        "        text: a string\n",
        "        \n",
        "        return: modified initial string\n",
        "    \"\"\"\n",
        "    text = BeautifulSoup(text, \"lxml\").text # HTML decoding\n",
        "    text = text.lower() # lowercase text\n",
        "  \n",
        "   \n",
        "    \n",
        "   \n",
        "   \n",
        "    text = REPLACE_BY_SPACE_RE.sub(' ', text) # replace REPLACE_BY_SPACE_RE symbols by space in text\n",
        "    text = BAD_SYMBOLS_RE.sub('', text) # delete symbols which are in BAD_SYMBOLS_RE from text\n",
        "    text= re.sub(\"\\d+\\.?\\d*\",\" \", text)     #remove decimal number\n",
        "    text = re.sub('[a-zA-Z]', ' ', text)     #remove english word\\n\",\n",
        "    text = re.sub('[।]', ' ', text) #remove \\n\",\n",
        "    text = ' '.join([word for word in text.split() if word not in bangla_stop_words])  # remove stop words\\n\",\n",
        "    return text\n",
        "for news in X:\n",
        "  news=clean_text(news)"
      ],
      "execution_count": null,
      "outputs": [
        {
          "output_type": "stream",
          "text": [
            "[nltk_data] Downloading package punkt to /root/nltk_data...\n",
            "[nltk_data]   Package punkt is already up-to-date!\n"
          ],
          "name": "stdout"
        }
      ]
    },
    {
      "cell_type": "code",
      "metadata": {
        "id": "9bciBuedCyAP",
        "colab": {
          "base_uri": "https://localhost:8080/",
          "height": 66
        },
        "outputId": "56ae58a8-2b6f-40c3-fc0c-5ff00aca728c"
      },
      "source": [
        "#Multinomial Naive Bayes\n",
        "\n",
        "\n",
        "\n",
        "from sklearn.naive_bayes import MultinomialNB\n",
        "from sklearn.pipeline import Pipeline\n",
        "from sklearn.feature_extraction.text import TfidfTransformer\n",
        "\n",
        "nb = Pipeline([('vect', CountVectorizer()),\n",
        "               ('tfidf', TfidfTransformer()),\n",
        "               ('clf', MultinomialNB()),\n",
        "              ])\n",
        "nb.fit(X_train, y_train)\n",
        "\n",
        "\n",
        "from sklearn.metrics import classification_report\n",
        "y_pred = nb.predict(X_test)\n",
        "\n",
        "print(\"Accuracy: \")\n",
        "print(accuracy_score(y_pred, y_test)*100)\n",
        "nb_ac=accuracy_score(y_pred, y_test)*100\n",
        "print(nb.score(X_test, y_test))\n",
        "\n",
        "\n",
        "\n",
        "\n"
      ],
      "execution_count": null,
      "outputs": [
        {
          "output_type": "stream",
          "text": [
            "Accuracy: \n",
            "60.74074074074074\n",
            "0.6074074074074074\n"
          ],
          "name": "stdout"
        }
      ]
    },
    {
      "cell_type": "code",
      "metadata": {
        "id": "-4g3qGzSpvSu",
        "colab": {
          "base_uri": "https://localhost:8080/",
          "height": 66
        },
        "outputId": "7998eaa7-1d58-4dbd-851f-9f665d8cfca2"
      },
      "source": [
        "#Linear Support Vector Machine\n",
        "\n",
        "\n",
        "\n",
        "\n",
        "\n",
        "from sklearn.linear_model import SGDClassifier\n",
        "\n",
        "sgd = Pipeline([('vect', CountVectorizer()),\n",
        "                ('tfidf', TfidfTransformer()),\n",
        "                ('clf', SGDClassifier(loss='hinge', penalty='l2',alpha=1e-3, random_state=42, max_iter=5, tol=None)),\n",
        "               ])\n",
        "sgd.fit(X_train, y_train)\n",
        "y_pred = sgd.predict(X_test)\n",
        "\n",
        "\n",
        "print(\"Accuracy: \")\n",
        "print(accuracy_score(y_pred, y_test)*100)\n",
        "sgd_ac=accuracy_score(y_pred, y_test)*100\n",
        "print(sgd.score(X_test, y_test))\n",
        "\n"
      ],
      "execution_count": null,
      "outputs": [
        {
          "output_type": "stream",
          "text": [
            "Accuracy: \n",
            "58.14814814814815\n",
            "0.5814814814814815\n"
          ],
          "name": "stdout"
        }
      ]
    },
    {
      "cell_type": "code",
      "metadata": {
        "id": "HWZZxUxDsKq4",
        "colab": {
          "base_uri": "https://localhost:8080/",
          "height": 66
        },
        "outputId": "9b2b7683-0f3e-4f45-c52e-fd70365922bf"
      },
      "source": [
        "#Logistic Regression\n",
        "\n",
        "\n",
        "from sklearn.linear_model import LogisticRegression\n",
        "\n",
        "logreg = Pipeline([('vect', CountVectorizer()),\n",
        "                ('tfidf', TfidfTransformer()),\n",
        "                ('clf', LogisticRegression(n_jobs=1, C=1e5)),\n",
        "               ])\n",
        "logreg.fit(X_train, y_train)\n",
        "\n",
        "y_pred = logreg.predict(X_test)\n",
        "\n",
        "print(\"Accuracy: \")\n",
        "print(accuracy_score(y_pred, y_test)*100)\n",
        "logreg_ac=accuracy_score(y_pred, y_test)*100\n",
        "print(logreg.score(X_test, y_test))\n",
        "\n"
      ],
      "execution_count": null,
      "outputs": [
        {
          "output_type": "stream",
          "text": [
            "Accuracy: \n",
            "58.14814814814815\n",
            "0.5814814814814815\n"
          ],
          "name": "stdout"
        }
      ]
    },
    {
      "cell_type": "code",
      "metadata": {
        "id": "cdBaigAftFwD",
        "colab": {
          "base_uri": "https://localhost:8080/",
          "height": 66
        },
        "outputId": "cc9641ba-4c5f-4c5d-90f8-459d7daac94f"
      },
      "source": [
        "#K-Nearest Neighbours\n",
        "\n",
        "from sklearn.neighbors import KNeighborsClassifier\n",
        "\n",
        "knn = Pipeline([('vect', CountVectorizer()),\n",
        "                ('tfidf', TfidfTransformer()),\n",
        "                ('clf', KNeighborsClassifier(n_neighbors = 20)),\n",
        "               ])\n",
        "\n",
        "knn.fit(X_train,y_train)\n",
        "\n",
        "y_pred = knn.predict(X_test)\n",
        "\n",
        "print(\"Accuracy: \")\n",
        "print(accuracy_score(y_pred, y_test)*100)\n",
        "knn_ac=accuracy_score(y_pred, y_test)*100\n",
        "print(knn.score(X_test, y_test))\n"
      ],
      "execution_count": null,
      "outputs": [
        {
          "output_type": "stream",
          "text": [
            "Accuracy: \n",
            "59.25925925925925\n",
            "0.5925925925925926\n"
          ],
          "name": "stdout"
        }
      ]
    },
    {
      "cell_type": "code",
      "metadata": {
        "id": "wZ-dtzAatvfA",
        "colab": {
          "base_uri": "https://localhost:8080/",
          "height": 66
        },
        "outputId": "b2dc5c29-5776-4d83-8db4-f9fee5623fb7"
      },
      "source": [
        "#Random Forest\n",
        "\n",
        "from sklearn.ensemble import RandomForestClassifier\n",
        "\n",
        "num_trees = 200\n",
        "max_features = 30\n",
        "\n",
        "rfc = Pipeline([('vect', CountVectorizer()),\n",
        "                ('tfidf', TfidfTransformer()),\n",
        "                ('clf', RandomForestClassifier(n_estimators=num_trees, max_features=max_features)),\n",
        "               ])\n",
        "\n",
        "rfc.fit(X_train, y_train)\n",
        "y_pred = rfc.predict(X_test)\n",
        "\n",
        "\n",
        "print(\"Accuracy: \")\n",
        "print(accuracy_score(y_pred, y_test)*100)\n",
        "rfc_ac=accuracy_score(y_pred, y_test)*100\n",
        "print(rfc.score(X_test, y_test))\n",
        "\n"
      ],
      "execution_count": null,
      "outputs": [
        {
          "output_type": "stream",
          "text": [
            "Accuracy: \n",
            "61.48148148148148\n",
            "0.6148148148148148\n"
          ],
          "name": "stdout"
        }
      ]
    },
    {
      "cell_type": "code",
      "metadata": {
        "id": "v_-AxOvrvdQP",
        "colab": {
          "base_uri": "https://localhost:8080/",
          "height": 82
        },
        "outputId": "2131ec2a-57bc-4c4a-b732-fa847ed5e6f4"
      },
      "source": [
        "#Decision Tree \n",
        "\n",
        "from sklearn.tree import DecisionTreeClassifier\n",
        "\n",
        "\n",
        "dt = Pipeline([('vect', CountVectorizer()),\n",
        "                ('tfidf', TfidfTransformer()),\n",
        "                ('clf', DecisionTreeClassifier()),\n",
        "               ])\n",
        "\n",
        "dt.fit(X_train, y_train)\n",
        "y_pred = dt.predict(X_test)\n",
        "\n",
        "\n",
        "print(\"Accuracy: \")\n",
        "print(accuracy_score(y_pred, y_test)*100)\n",
        "dt_ac=accuracy_score(y_pred, y_test)*100\n",
        "\n",
        "print('Accuracy of Decision Tree classifier on training set: {:.2f}'\n",
        "     .format(dt.score(X_train, y_train)))\n",
        "print('Accuracy of Decision Tree classifier on test set: {:.2f}'\n",
        "     .format(dt.score(X_test, y_test)))\n",
        "\n",
        "\n",
        "\n",
        "\n"
      ],
      "execution_count": null,
      "outputs": [
        {
          "output_type": "stream",
          "text": [
            "Accuracy: \n",
            "57.03703703703704\n",
            "Accuracy of Decision Tree classifier on training set: 0.99\n",
            "Accuracy of Decision Tree classifier on test set: 0.57\n"
          ],
          "name": "stdout"
        }
      ]
    },
    {
      "cell_type": "code",
      "metadata": {
        "id": "_rwnZ-YT01GY"
      },
      "source": [
        "cross_val_count=[]"
      ],
      "execution_count": null,
      "outputs": []
    },
    {
      "cell_type": "code",
      "metadata": {
        "id": "6ucxV4lNuF2R",
        "colab": {
          "base_uri": "https://localhost:8080/",
          "height": 66
        },
        "outputId": "1cd9e33d-98e1-4049-f122-53642b1bc336"
      },
      "source": [
        "from sklearn.model_selection import cross_val_score\n",
        "scores = cross_val_score(nb, reviews[0],reviews[1], cv=10)\n",
        "cross_val_count.append(scores.mean())\n",
        "print(scores)\n",
        "print(\"Accuracy of  Naive Bayes with 10 fold Cross validation: %0.2f (+/- %0.2f)\" % (scores.mean(), scores.std() * 2))"
      ],
      "execution_count": null,
      "outputs": [
        {
          "output_type": "stream",
          "text": [
            "[0.63333333 0.62222222 0.6        0.63333333 0.6        0.68888889\n",
            " 0.55555556 0.62222222 0.61111111 0.51111111]\n",
            "Accuracy of  Naive Bayes with 10 fold Cross validation: 0.61 (+/- 0.09)\n"
          ],
          "name": "stdout"
        }
      ]
    },
    {
      "cell_type": "code",
      "metadata": {
        "id": "x73Iys8ZuPKO",
        "colab": {
          "base_uri": "https://localhost:8080/",
          "height": 66
        },
        "outputId": "08ae6985-dd03-4edb-873c-6ccc8ae51f1a"
      },
      "source": [
        "scores = cross_val_score(sgd, reviews[0],reviews[1], cv=10)\n",
        "cross_val_count.append(scores.mean())\n",
        "print(scores)\n",
        "print(\"Accuracy of SVM with 10 fold Cross validation: %0.2f (+/- %0.2f)\" % (scores.mean(), scores.std() * 2))"
      ],
      "execution_count": null,
      "outputs": [
        {
          "output_type": "stream",
          "text": [
            "[0.63333333 0.53333333 0.56666667 0.63333333 0.58888889 0.62222222\n",
            " 0.52222222 0.57777778 0.52222222 0.42222222]\n",
            "Accuracy of SVM with 10 fold Cross validation: 0.56 (+/- 0.12)\n"
          ],
          "name": "stdout"
        }
      ]
    },
    {
      "cell_type": "code",
      "metadata": {
        "id": "1O69fDs9up6j",
        "colab": {
          "base_uri": "https://localhost:8080/",
          "height": 66
        },
        "outputId": "aab10c3d-1380-4d31-a235-ace60f26a563"
      },
      "source": [
        "scores = cross_val_score(logreg, reviews[0],reviews[1], cv=10)\n",
        "cross_val_count.append(scores.mean())\n",
        "print(scores)\n",
        "print(\"Accuracy of Logistic Regression with 10 fold Cross validation: %0.2f (+/- %0.2f)\" % (scores.mean(), scores.std() * 2))"
      ],
      "execution_count": null,
      "outputs": [
        {
          "output_type": "stream",
          "text": [
            "[0.64444444 0.57777778 0.58888889 0.65555556 0.61111111 0.67777778\n",
            " 0.46666667 0.55555556 0.48888889 0.42222222]\n",
            "Accuracy of Logistic Regression with 10 fold Cross validation: 0.57 (+/- 0.16)\n"
          ],
          "name": "stdout"
        }
      ]
    },
    {
      "cell_type": "code",
      "metadata": {
        "id": "IOVOkIpvutAT",
        "colab": {
          "base_uri": "https://localhost:8080/",
          "height": 69
        },
        "outputId": "c9702a21-8efe-4d2c-9540-c8228c28607f"
      },
      "source": [
        "scores = cross_val_score(knn,reviews.Coment,reviews.ID, cv=10)\n",
        "cross_val_count.append(scores.mean())\n",
        "print(scores)\n",
        "print(\"Accuracy of KNN with 10 fold Cross validation: %0.2f (+/- %0.2f)\" % (scores.mean(), scores.std() * 2))"
      ],
      "execution_count": null,
      "outputs": [
        {
          "output_type": "stream",
          "text": [
            "[0.62241567 0.61371055 0.61915125 0.61153428 0.62132753 0.62350381\n",
            " 0.60174102 0.61479869 0.61437908 0.62418301]\n",
            "Accuracy of KNN with 10 fold Cross validation: 0.62 (+/- 0.01)\n"
          ],
          "name": "stdout"
        }
      ]
    },
    {
      "cell_type": "code",
      "metadata": {
        "id": "PGHlKgf1uwNl",
        "colab": {
          "base_uri": "https://localhost:8080/",
          "height": 362
        },
        "outputId": "b2ece647-1d8e-4ba3-933a-01d48c5faeac"
      },
      "source": [
        "scores = cross_val_score(rfc, reviews.Coment,reviews.ID, cv=10)\n",
        "cross_val_count.append(scores.mean())\n",
        "print(scores)\n",
        "print(\"Accuracy of Random Forest with 10 fold Cross validation: %0.2f (+/- %0.2f)\" % (scores.mean(), scores.std() * 2))"
      ],
      "execution_count": null,
      "outputs": [
        {
          "output_type": "error",
          "ename": "KeyboardInterrupt",
          "evalue": "ignored",
          "traceback": [
            "\u001b[0;31m---------------------------------------------------------------------------\u001b[0m",
            "\u001b[0;31mKeyboardInterrupt\u001b[0m                         Traceback (most recent call last)",
            "\u001b[0;32m<ipython-input-44-1e238d2d9cfe>\u001b[0m in \u001b[0;36m<module>\u001b[0;34m()\u001b[0m\n\u001b[0;32m----> 1\u001b[0;31m \u001b[0mscores\u001b[0m \u001b[0;34m=\u001b[0m \u001b[0mcross_val_score\u001b[0m\u001b[0;34m(\u001b[0m\u001b[0mrfc\u001b[0m\u001b[0;34m,\u001b[0m \u001b[0mreviews\u001b[0m\u001b[0;34m.\u001b[0m\u001b[0mComent\u001b[0m\u001b[0;34m,\u001b[0m\u001b[0mreviews\u001b[0m\u001b[0;34m.\u001b[0m\u001b[0mID\u001b[0m\u001b[0;34m,\u001b[0m \u001b[0mcv\u001b[0m\u001b[0;34m=\u001b[0m\u001b[0;36m10\u001b[0m\u001b[0;34m)\u001b[0m\u001b[0;34m\u001b[0m\u001b[0;34m\u001b[0m\u001b[0m\n\u001b[0m\u001b[1;32m      2\u001b[0m \u001b[0mcross_val_count\u001b[0m\u001b[0;34m.\u001b[0m\u001b[0mappend\u001b[0m\u001b[0;34m(\u001b[0m\u001b[0mscores\u001b[0m\u001b[0;34m.\u001b[0m\u001b[0mmean\u001b[0m\u001b[0;34m(\u001b[0m\u001b[0;34m)\u001b[0m\u001b[0;34m)\u001b[0m\u001b[0;34m\u001b[0m\u001b[0;34m\u001b[0m\u001b[0m\n\u001b[1;32m      3\u001b[0m \u001b[0mprint\u001b[0m\u001b[0;34m(\u001b[0m\u001b[0mscores\u001b[0m\u001b[0;34m)\u001b[0m\u001b[0;34m\u001b[0m\u001b[0;34m\u001b[0m\u001b[0m\n\u001b[1;32m      4\u001b[0m \u001b[0mprint\u001b[0m\u001b[0;34m(\u001b[0m\u001b[0;34m\"Accuracy of Random Forest with 10 fold Cross validation: %0.2f (+/- %0.2f)\"\u001b[0m \u001b[0;34m%\u001b[0m \u001b[0;34m(\u001b[0m\u001b[0mscores\u001b[0m\u001b[0;34m.\u001b[0m\u001b[0mmean\u001b[0m\u001b[0;34m(\u001b[0m\u001b[0;34m)\u001b[0m\u001b[0;34m,\u001b[0m \u001b[0mscores\u001b[0m\u001b[0;34m.\u001b[0m\u001b[0mstd\u001b[0m\u001b[0;34m(\u001b[0m\u001b[0;34m)\u001b[0m \u001b[0;34m*\u001b[0m \u001b[0;36m2\u001b[0m\u001b[0;34m)\u001b[0m\u001b[0;34m)\u001b[0m\u001b[0;34m\u001b[0m\u001b[0;34m\u001b[0m\u001b[0m\n",
            "\u001b[0;32m/usr/local/lib/python3.6/dist-packages/sklearn/model_selection/_validation.py\u001b[0m in \u001b[0;36mcross_val_score\u001b[0;34m(estimator, X, y, groups, scoring, cv, n_jobs, verbose, fit_params, pre_dispatch, error_score)\u001b[0m\n\u001b[1;32m    388\u001b[0m                                 \u001b[0mfit_params\u001b[0m\u001b[0;34m=\u001b[0m\u001b[0mfit_params\u001b[0m\u001b[0;34m,\u001b[0m\u001b[0;34m\u001b[0m\u001b[0;34m\u001b[0m\u001b[0m\n\u001b[1;32m    389\u001b[0m                                 \u001b[0mpre_dispatch\u001b[0m\u001b[0;34m=\u001b[0m\u001b[0mpre_dispatch\u001b[0m\u001b[0;34m,\u001b[0m\u001b[0;34m\u001b[0m\u001b[0;34m\u001b[0m\u001b[0m\n\u001b[0;32m--> 390\u001b[0;31m                                 error_score=error_score)\n\u001b[0m\u001b[1;32m    391\u001b[0m     \u001b[0;32mreturn\u001b[0m \u001b[0mcv_results\u001b[0m\u001b[0;34m[\u001b[0m\u001b[0;34m'test_score'\u001b[0m\u001b[0;34m]\u001b[0m\u001b[0;34m\u001b[0m\u001b[0;34m\u001b[0m\u001b[0m\n\u001b[1;32m    392\u001b[0m \u001b[0;34m\u001b[0m\u001b[0m\n",
            "\u001b[0;32m/usr/local/lib/python3.6/dist-packages/sklearn/model_selection/_validation.py\u001b[0m in \u001b[0;36mcross_validate\u001b[0;34m(estimator, X, y, groups, scoring, cv, n_jobs, verbose, fit_params, pre_dispatch, return_train_score, return_estimator, error_score)\u001b[0m\n\u001b[1;32m    234\u001b[0m             \u001b[0mreturn_times\u001b[0m\u001b[0;34m=\u001b[0m\u001b[0;32mTrue\u001b[0m\u001b[0;34m,\u001b[0m \u001b[0mreturn_estimator\u001b[0m\u001b[0;34m=\u001b[0m\u001b[0mreturn_estimator\u001b[0m\u001b[0;34m,\u001b[0m\u001b[0;34m\u001b[0m\u001b[0;34m\u001b[0m\u001b[0m\n\u001b[1;32m    235\u001b[0m             error_score=error_score)\n\u001b[0;32m--> 236\u001b[0;31m         for train, test in cv.split(X, y, groups))\n\u001b[0m\u001b[1;32m    237\u001b[0m \u001b[0;34m\u001b[0m\u001b[0m\n\u001b[1;32m    238\u001b[0m     \u001b[0mzipped_scores\u001b[0m \u001b[0;34m=\u001b[0m \u001b[0mlist\u001b[0m\u001b[0;34m(\u001b[0m\u001b[0mzip\u001b[0m\u001b[0;34m(\u001b[0m\u001b[0;34m*\u001b[0m\u001b[0mscores\u001b[0m\u001b[0;34m)\u001b[0m\u001b[0;34m)\u001b[0m\u001b[0;34m\u001b[0m\u001b[0;34m\u001b[0m\u001b[0m\n",
            "\u001b[0;32m/usr/local/lib/python3.6/dist-packages/joblib/parallel.py\u001b[0m in \u001b[0;36m__call__\u001b[0;34m(self, iterable)\u001b[0m\n\u001b[1;32m   1030\u001b[0m                 \u001b[0mself\u001b[0m\u001b[0;34m.\u001b[0m\u001b[0m_iterating\u001b[0m \u001b[0;34m=\u001b[0m \u001b[0mself\u001b[0m\u001b[0;34m.\u001b[0m\u001b[0m_original_iterator\u001b[0m \u001b[0;32mis\u001b[0m \u001b[0;32mnot\u001b[0m \u001b[0;32mNone\u001b[0m\u001b[0;34m\u001b[0m\u001b[0;34m\u001b[0m\u001b[0m\n\u001b[1;32m   1031\u001b[0m \u001b[0;34m\u001b[0m\u001b[0m\n\u001b[0;32m-> 1032\u001b[0;31m             \u001b[0;32mwhile\u001b[0m \u001b[0mself\u001b[0m\u001b[0;34m.\u001b[0m\u001b[0mdispatch_one_batch\u001b[0m\u001b[0;34m(\u001b[0m\u001b[0miterator\u001b[0m\u001b[0;34m)\u001b[0m\u001b[0;34m:\u001b[0m\u001b[0;34m\u001b[0m\u001b[0;34m\u001b[0m\u001b[0m\n\u001b[0m\u001b[1;32m   1033\u001b[0m                 \u001b[0;32mpass\u001b[0m\u001b[0;34m\u001b[0m\u001b[0;34m\u001b[0m\u001b[0m\n\u001b[1;32m   1034\u001b[0m \u001b[0;34m\u001b[0m\u001b[0m\n",
            "\u001b[0;32m/usr/local/lib/python3.6/dist-packages/joblib/parallel.py\u001b[0m in \u001b[0;36mdispatch_one_batch\u001b[0;34m(self, iterator)\u001b[0m\n\u001b[1;32m    845\u001b[0m                 \u001b[0;32mreturn\u001b[0m \u001b[0;32mFalse\u001b[0m\u001b[0;34m\u001b[0m\u001b[0;34m\u001b[0m\u001b[0m\n\u001b[1;32m    846\u001b[0m             \u001b[0;32melse\u001b[0m\u001b[0;34m:\u001b[0m\u001b[0;34m\u001b[0m\u001b[0;34m\u001b[0m\u001b[0m\n\u001b[0;32m--> 847\u001b[0;31m                 \u001b[0mself\u001b[0m\u001b[0;34m.\u001b[0m\u001b[0m_dispatch\u001b[0m\u001b[0;34m(\u001b[0m\u001b[0mtasks\u001b[0m\u001b[0;34m)\u001b[0m\u001b[0;34m\u001b[0m\u001b[0;34m\u001b[0m\u001b[0m\n\u001b[0m\u001b[1;32m    848\u001b[0m                 \u001b[0;32mreturn\u001b[0m \u001b[0;32mTrue\u001b[0m\u001b[0;34m\u001b[0m\u001b[0;34m\u001b[0m\u001b[0m\n\u001b[1;32m    849\u001b[0m \u001b[0;34m\u001b[0m\u001b[0m\n",
            "\u001b[0;32m/usr/local/lib/python3.6/dist-packages/joblib/parallel.py\u001b[0m in \u001b[0;36m_dispatch\u001b[0;34m(self, batch)\u001b[0m\n\u001b[1;32m    763\u001b[0m         \u001b[0;32mwith\u001b[0m \u001b[0mself\u001b[0m\u001b[0;34m.\u001b[0m\u001b[0m_lock\u001b[0m\u001b[0;34m:\u001b[0m\u001b[0;34m\u001b[0m\u001b[0;34m\u001b[0m\u001b[0m\n\u001b[1;32m    764\u001b[0m             \u001b[0mjob_idx\u001b[0m \u001b[0;34m=\u001b[0m \u001b[0mlen\u001b[0m\u001b[0;34m(\u001b[0m\u001b[0mself\u001b[0m\u001b[0;34m.\u001b[0m\u001b[0m_jobs\u001b[0m\u001b[0;34m)\u001b[0m\u001b[0;34m\u001b[0m\u001b[0;34m\u001b[0m\u001b[0m\n\u001b[0;32m--> 765\u001b[0;31m             \u001b[0mjob\u001b[0m \u001b[0;34m=\u001b[0m \u001b[0mself\u001b[0m\u001b[0;34m.\u001b[0m\u001b[0m_backend\u001b[0m\u001b[0;34m.\u001b[0m\u001b[0mapply_async\u001b[0m\u001b[0;34m(\u001b[0m\u001b[0mbatch\u001b[0m\u001b[0;34m,\u001b[0m \u001b[0mcallback\u001b[0m\u001b[0;34m=\u001b[0m\u001b[0mcb\u001b[0m\u001b[0;34m)\u001b[0m\u001b[0;34m\u001b[0m\u001b[0;34m\u001b[0m\u001b[0m\n\u001b[0m\u001b[1;32m    766\u001b[0m             \u001b[0;31m# A job can complete so quickly than its callback is\u001b[0m\u001b[0;34m\u001b[0m\u001b[0;34m\u001b[0m\u001b[0;34m\u001b[0m\u001b[0m\n\u001b[1;32m    767\u001b[0m             \u001b[0;31m# called before we get here, causing self._jobs to\u001b[0m\u001b[0;34m\u001b[0m\u001b[0;34m\u001b[0m\u001b[0;34m\u001b[0m\u001b[0m\n",
            "\u001b[0;32m/usr/local/lib/python3.6/dist-packages/joblib/_parallel_backends.py\u001b[0m in \u001b[0;36mapply_async\u001b[0;34m(self, func, callback)\u001b[0m\n\u001b[1;32m    206\u001b[0m     \u001b[0;32mdef\u001b[0m \u001b[0mapply_async\u001b[0m\u001b[0;34m(\u001b[0m\u001b[0mself\u001b[0m\u001b[0;34m,\u001b[0m \u001b[0mfunc\u001b[0m\u001b[0;34m,\u001b[0m \u001b[0mcallback\u001b[0m\u001b[0;34m=\u001b[0m\u001b[0;32mNone\u001b[0m\u001b[0;34m)\u001b[0m\u001b[0;34m:\u001b[0m\u001b[0;34m\u001b[0m\u001b[0;34m\u001b[0m\u001b[0m\n\u001b[1;32m    207\u001b[0m         \u001b[0;34m\"\"\"Schedule a func to be run\"\"\"\u001b[0m\u001b[0;34m\u001b[0m\u001b[0;34m\u001b[0m\u001b[0m\n\u001b[0;32m--> 208\u001b[0;31m         \u001b[0mresult\u001b[0m \u001b[0;34m=\u001b[0m \u001b[0mImmediateResult\u001b[0m\u001b[0;34m(\u001b[0m\u001b[0mfunc\u001b[0m\u001b[0;34m)\u001b[0m\u001b[0;34m\u001b[0m\u001b[0;34m\u001b[0m\u001b[0m\n\u001b[0m\u001b[1;32m    209\u001b[0m         \u001b[0;32mif\u001b[0m \u001b[0mcallback\u001b[0m\u001b[0;34m:\u001b[0m\u001b[0;34m\u001b[0m\u001b[0;34m\u001b[0m\u001b[0m\n\u001b[1;32m    210\u001b[0m             \u001b[0mcallback\u001b[0m\u001b[0;34m(\u001b[0m\u001b[0mresult\u001b[0m\u001b[0;34m)\u001b[0m\u001b[0;34m\u001b[0m\u001b[0;34m\u001b[0m\u001b[0m\n",
            "\u001b[0;32m/usr/local/lib/python3.6/dist-packages/joblib/_parallel_backends.py\u001b[0m in \u001b[0;36m__init__\u001b[0;34m(self, batch)\u001b[0m\n\u001b[1;32m    570\u001b[0m         \u001b[0;31m# Don't delay the application, to avoid keeping the input\u001b[0m\u001b[0;34m\u001b[0m\u001b[0;34m\u001b[0m\u001b[0;34m\u001b[0m\u001b[0m\n\u001b[1;32m    571\u001b[0m         \u001b[0;31m# arguments in memory\u001b[0m\u001b[0;34m\u001b[0m\u001b[0;34m\u001b[0m\u001b[0;34m\u001b[0m\u001b[0m\n\u001b[0;32m--> 572\u001b[0;31m         \u001b[0mself\u001b[0m\u001b[0;34m.\u001b[0m\u001b[0mresults\u001b[0m \u001b[0;34m=\u001b[0m \u001b[0mbatch\u001b[0m\u001b[0;34m(\u001b[0m\u001b[0;34m)\u001b[0m\u001b[0;34m\u001b[0m\u001b[0;34m\u001b[0m\u001b[0m\n\u001b[0m\u001b[1;32m    573\u001b[0m \u001b[0;34m\u001b[0m\u001b[0m\n\u001b[1;32m    574\u001b[0m     \u001b[0;32mdef\u001b[0m \u001b[0mget\u001b[0m\u001b[0;34m(\u001b[0m\u001b[0mself\u001b[0m\u001b[0;34m)\u001b[0m\u001b[0;34m:\u001b[0m\u001b[0;34m\u001b[0m\u001b[0;34m\u001b[0m\u001b[0m\n",
            "\u001b[0;32m/usr/local/lib/python3.6/dist-packages/joblib/parallel.py\u001b[0m in \u001b[0;36m__call__\u001b[0;34m(self)\u001b[0m\n\u001b[1;32m    251\u001b[0m         \u001b[0;32mwith\u001b[0m \u001b[0mparallel_backend\u001b[0m\u001b[0;34m(\u001b[0m\u001b[0mself\u001b[0m\u001b[0;34m.\u001b[0m\u001b[0m_backend\u001b[0m\u001b[0;34m,\u001b[0m \u001b[0mn_jobs\u001b[0m\u001b[0;34m=\u001b[0m\u001b[0mself\u001b[0m\u001b[0;34m.\u001b[0m\u001b[0m_n_jobs\u001b[0m\u001b[0;34m)\u001b[0m\u001b[0;34m:\u001b[0m\u001b[0;34m\u001b[0m\u001b[0;34m\u001b[0m\u001b[0m\n\u001b[1;32m    252\u001b[0m             return [func(*args, **kwargs)\n\u001b[0;32m--> 253\u001b[0;31m                     for func, args, kwargs in self.items]\n\u001b[0m\u001b[1;32m    254\u001b[0m \u001b[0;34m\u001b[0m\u001b[0m\n\u001b[1;32m    255\u001b[0m     \u001b[0;32mdef\u001b[0m \u001b[0m__reduce__\u001b[0m\u001b[0;34m(\u001b[0m\u001b[0mself\u001b[0m\u001b[0;34m)\u001b[0m\u001b[0;34m:\u001b[0m\u001b[0;34m\u001b[0m\u001b[0;34m\u001b[0m\u001b[0m\n",
            "\u001b[0;32m/usr/local/lib/python3.6/dist-packages/joblib/parallel.py\u001b[0m in \u001b[0;36m<listcomp>\u001b[0;34m(.0)\u001b[0m\n\u001b[1;32m    251\u001b[0m         \u001b[0;32mwith\u001b[0m \u001b[0mparallel_backend\u001b[0m\u001b[0;34m(\u001b[0m\u001b[0mself\u001b[0m\u001b[0;34m.\u001b[0m\u001b[0m_backend\u001b[0m\u001b[0;34m,\u001b[0m \u001b[0mn_jobs\u001b[0m\u001b[0;34m=\u001b[0m\u001b[0mself\u001b[0m\u001b[0;34m.\u001b[0m\u001b[0m_n_jobs\u001b[0m\u001b[0;34m)\u001b[0m\u001b[0;34m:\u001b[0m\u001b[0;34m\u001b[0m\u001b[0;34m\u001b[0m\u001b[0m\n\u001b[1;32m    252\u001b[0m             return [func(*args, **kwargs)\n\u001b[0;32m--> 253\u001b[0;31m                     for func, args, kwargs in self.items]\n\u001b[0m\u001b[1;32m    254\u001b[0m \u001b[0;34m\u001b[0m\u001b[0m\n\u001b[1;32m    255\u001b[0m     \u001b[0;32mdef\u001b[0m \u001b[0m__reduce__\u001b[0m\u001b[0;34m(\u001b[0m\u001b[0mself\u001b[0m\u001b[0;34m)\u001b[0m\u001b[0;34m:\u001b[0m\u001b[0;34m\u001b[0m\u001b[0;34m\u001b[0m\u001b[0m\n",
            "\u001b[0;32m/usr/local/lib/python3.6/dist-packages/sklearn/model_selection/_validation.py\u001b[0m in \u001b[0;36m_fit_and_score\u001b[0;34m(estimator, X, y, scorer, train, test, verbose, parameters, fit_params, return_train_score, return_parameters, return_n_test_samples, return_times, return_estimator, error_score)\u001b[0m\n\u001b[1;32m    513\u001b[0m             \u001b[0mestimator\u001b[0m\u001b[0;34m.\u001b[0m\u001b[0mfit\u001b[0m\u001b[0;34m(\u001b[0m\u001b[0mX_train\u001b[0m\u001b[0;34m,\u001b[0m \u001b[0;34m**\u001b[0m\u001b[0mfit_params\u001b[0m\u001b[0;34m)\u001b[0m\u001b[0;34m\u001b[0m\u001b[0;34m\u001b[0m\u001b[0m\n\u001b[1;32m    514\u001b[0m         \u001b[0;32melse\u001b[0m\u001b[0;34m:\u001b[0m\u001b[0;34m\u001b[0m\u001b[0;34m\u001b[0m\u001b[0m\n\u001b[0;32m--> 515\u001b[0;31m             \u001b[0mestimator\u001b[0m\u001b[0;34m.\u001b[0m\u001b[0mfit\u001b[0m\u001b[0;34m(\u001b[0m\u001b[0mX_train\u001b[0m\u001b[0;34m,\u001b[0m \u001b[0my_train\u001b[0m\u001b[0;34m,\u001b[0m \u001b[0;34m**\u001b[0m\u001b[0mfit_params\u001b[0m\u001b[0;34m)\u001b[0m\u001b[0;34m\u001b[0m\u001b[0;34m\u001b[0m\u001b[0m\n\u001b[0m\u001b[1;32m    516\u001b[0m \u001b[0;34m\u001b[0m\u001b[0m\n\u001b[1;32m    517\u001b[0m     \u001b[0;32mexcept\u001b[0m \u001b[0mException\u001b[0m \u001b[0;32mas\u001b[0m \u001b[0me\u001b[0m\u001b[0;34m:\u001b[0m\u001b[0;34m\u001b[0m\u001b[0;34m\u001b[0m\u001b[0m\n",
            "\u001b[0;32m/usr/local/lib/python3.6/dist-packages/sklearn/pipeline.py\u001b[0m in \u001b[0;36mfit\u001b[0;34m(self, X, y, **fit_params)\u001b[0m\n\u001b[1;32m    352\u001b[0m                                  self._log_message(len(self.steps) - 1)):\n\u001b[1;32m    353\u001b[0m             \u001b[0;32mif\u001b[0m \u001b[0mself\u001b[0m\u001b[0;34m.\u001b[0m\u001b[0m_final_estimator\u001b[0m \u001b[0;34m!=\u001b[0m \u001b[0;34m'passthrough'\u001b[0m\u001b[0;34m:\u001b[0m\u001b[0;34m\u001b[0m\u001b[0;34m\u001b[0m\u001b[0m\n\u001b[0;32m--> 354\u001b[0;31m                 \u001b[0mself\u001b[0m\u001b[0;34m.\u001b[0m\u001b[0m_final_estimator\u001b[0m\u001b[0;34m.\u001b[0m\u001b[0mfit\u001b[0m\u001b[0;34m(\u001b[0m\u001b[0mXt\u001b[0m\u001b[0;34m,\u001b[0m \u001b[0my\u001b[0m\u001b[0;34m,\u001b[0m \u001b[0;34m**\u001b[0m\u001b[0mfit_params\u001b[0m\u001b[0;34m)\u001b[0m\u001b[0;34m\u001b[0m\u001b[0;34m\u001b[0m\u001b[0m\n\u001b[0m\u001b[1;32m    355\u001b[0m         \u001b[0;32mreturn\u001b[0m \u001b[0mself\u001b[0m\u001b[0;34m\u001b[0m\u001b[0;34m\u001b[0m\u001b[0m\n\u001b[1;32m    356\u001b[0m \u001b[0;34m\u001b[0m\u001b[0m\n",
            "\u001b[0;32m/usr/local/lib/python3.6/dist-packages/sklearn/ensemble/_forest.py\u001b[0m in \u001b[0;36mfit\u001b[0;34m(self, X, y, sample_weight)\u001b[0m\n\u001b[1;32m    381\u001b[0m                     \u001b[0mverbose\u001b[0m\u001b[0;34m=\u001b[0m\u001b[0mself\u001b[0m\u001b[0;34m.\u001b[0m\u001b[0mverbose\u001b[0m\u001b[0;34m,\u001b[0m \u001b[0mclass_weight\u001b[0m\u001b[0;34m=\u001b[0m\u001b[0mself\u001b[0m\u001b[0;34m.\u001b[0m\u001b[0mclass_weight\u001b[0m\u001b[0;34m,\u001b[0m\u001b[0;34m\u001b[0m\u001b[0;34m\u001b[0m\u001b[0m\n\u001b[1;32m    382\u001b[0m                     n_samples_bootstrap=n_samples_bootstrap)\n\u001b[0;32m--> 383\u001b[0;31m                 for i, t in enumerate(trees))\n\u001b[0m\u001b[1;32m    384\u001b[0m \u001b[0;34m\u001b[0m\u001b[0m\n\u001b[1;32m    385\u001b[0m             \u001b[0;31m# Collect newly grown trees\u001b[0m\u001b[0;34m\u001b[0m\u001b[0;34m\u001b[0m\u001b[0;34m\u001b[0m\u001b[0m\n",
            "\u001b[0;32m/usr/local/lib/python3.6/dist-packages/joblib/parallel.py\u001b[0m in \u001b[0;36m__call__\u001b[0;34m(self, iterable)\u001b[0m\n\u001b[1;32m   1030\u001b[0m                 \u001b[0mself\u001b[0m\u001b[0;34m.\u001b[0m\u001b[0m_iterating\u001b[0m \u001b[0;34m=\u001b[0m \u001b[0mself\u001b[0m\u001b[0;34m.\u001b[0m\u001b[0m_original_iterator\u001b[0m \u001b[0;32mis\u001b[0m \u001b[0;32mnot\u001b[0m \u001b[0;32mNone\u001b[0m\u001b[0;34m\u001b[0m\u001b[0;34m\u001b[0m\u001b[0m\n\u001b[1;32m   1031\u001b[0m \u001b[0;34m\u001b[0m\u001b[0m\n\u001b[0;32m-> 1032\u001b[0;31m             \u001b[0;32mwhile\u001b[0m \u001b[0mself\u001b[0m\u001b[0;34m.\u001b[0m\u001b[0mdispatch_one_batch\u001b[0m\u001b[0;34m(\u001b[0m\u001b[0miterator\u001b[0m\u001b[0;34m)\u001b[0m\u001b[0;34m:\u001b[0m\u001b[0;34m\u001b[0m\u001b[0;34m\u001b[0m\u001b[0m\n\u001b[0m\u001b[1;32m   1033\u001b[0m                 \u001b[0;32mpass\u001b[0m\u001b[0;34m\u001b[0m\u001b[0;34m\u001b[0m\u001b[0m\n\u001b[1;32m   1034\u001b[0m \u001b[0;34m\u001b[0m\u001b[0m\n",
            "\u001b[0;32m/usr/local/lib/python3.6/dist-packages/joblib/parallel.py\u001b[0m in \u001b[0;36mdispatch_one_batch\u001b[0;34m(self, iterator)\u001b[0m\n\u001b[1;32m    845\u001b[0m                 \u001b[0;32mreturn\u001b[0m \u001b[0;32mFalse\u001b[0m\u001b[0;34m\u001b[0m\u001b[0;34m\u001b[0m\u001b[0m\n\u001b[1;32m    846\u001b[0m             \u001b[0;32melse\u001b[0m\u001b[0;34m:\u001b[0m\u001b[0;34m\u001b[0m\u001b[0;34m\u001b[0m\u001b[0m\n\u001b[0;32m--> 847\u001b[0;31m                 \u001b[0mself\u001b[0m\u001b[0;34m.\u001b[0m\u001b[0m_dispatch\u001b[0m\u001b[0;34m(\u001b[0m\u001b[0mtasks\u001b[0m\u001b[0;34m)\u001b[0m\u001b[0;34m\u001b[0m\u001b[0;34m\u001b[0m\u001b[0m\n\u001b[0m\u001b[1;32m    848\u001b[0m                 \u001b[0;32mreturn\u001b[0m \u001b[0;32mTrue\u001b[0m\u001b[0;34m\u001b[0m\u001b[0;34m\u001b[0m\u001b[0m\n\u001b[1;32m    849\u001b[0m \u001b[0;34m\u001b[0m\u001b[0m\n",
            "\u001b[0;32m/usr/local/lib/python3.6/dist-packages/joblib/parallel.py\u001b[0m in \u001b[0;36m_dispatch\u001b[0;34m(self, batch)\u001b[0m\n\u001b[1;32m    763\u001b[0m         \u001b[0;32mwith\u001b[0m \u001b[0mself\u001b[0m\u001b[0;34m.\u001b[0m\u001b[0m_lock\u001b[0m\u001b[0;34m:\u001b[0m\u001b[0;34m\u001b[0m\u001b[0;34m\u001b[0m\u001b[0m\n\u001b[1;32m    764\u001b[0m             \u001b[0mjob_idx\u001b[0m \u001b[0;34m=\u001b[0m \u001b[0mlen\u001b[0m\u001b[0;34m(\u001b[0m\u001b[0mself\u001b[0m\u001b[0;34m.\u001b[0m\u001b[0m_jobs\u001b[0m\u001b[0;34m)\u001b[0m\u001b[0;34m\u001b[0m\u001b[0;34m\u001b[0m\u001b[0m\n\u001b[0;32m--> 765\u001b[0;31m             \u001b[0mjob\u001b[0m \u001b[0;34m=\u001b[0m \u001b[0mself\u001b[0m\u001b[0;34m.\u001b[0m\u001b[0m_backend\u001b[0m\u001b[0;34m.\u001b[0m\u001b[0mapply_async\u001b[0m\u001b[0;34m(\u001b[0m\u001b[0mbatch\u001b[0m\u001b[0;34m,\u001b[0m \u001b[0mcallback\u001b[0m\u001b[0;34m=\u001b[0m\u001b[0mcb\u001b[0m\u001b[0;34m)\u001b[0m\u001b[0;34m\u001b[0m\u001b[0;34m\u001b[0m\u001b[0m\n\u001b[0m\u001b[1;32m    766\u001b[0m             \u001b[0;31m# A job can complete so quickly than its callback is\u001b[0m\u001b[0;34m\u001b[0m\u001b[0;34m\u001b[0m\u001b[0;34m\u001b[0m\u001b[0m\n\u001b[1;32m    767\u001b[0m             \u001b[0;31m# called before we get here, causing self._jobs to\u001b[0m\u001b[0;34m\u001b[0m\u001b[0;34m\u001b[0m\u001b[0;34m\u001b[0m\u001b[0m\n",
            "\u001b[0;32m/usr/local/lib/python3.6/dist-packages/joblib/_parallel_backends.py\u001b[0m in \u001b[0;36mapply_async\u001b[0;34m(self, func, callback)\u001b[0m\n\u001b[1;32m    206\u001b[0m     \u001b[0;32mdef\u001b[0m \u001b[0mapply_async\u001b[0m\u001b[0;34m(\u001b[0m\u001b[0mself\u001b[0m\u001b[0;34m,\u001b[0m \u001b[0mfunc\u001b[0m\u001b[0;34m,\u001b[0m \u001b[0mcallback\u001b[0m\u001b[0;34m=\u001b[0m\u001b[0;32mNone\u001b[0m\u001b[0;34m)\u001b[0m\u001b[0;34m:\u001b[0m\u001b[0;34m\u001b[0m\u001b[0;34m\u001b[0m\u001b[0m\n\u001b[1;32m    207\u001b[0m         \u001b[0;34m\"\"\"Schedule a func to be run\"\"\"\u001b[0m\u001b[0;34m\u001b[0m\u001b[0;34m\u001b[0m\u001b[0m\n\u001b[0;32m--> 208\u001b[0;31m         \u001b[0mresult\u001b[0m \u001b[0;34m=\u001b[0m \u001b[0mImmediateResult\u001b[0m\u001b[0;34m(\u001b[0m\u001b[0mfunc\u001b[0m\u001b[0;34m)\u001b[0m\u001b[0;34m\u001b[0m\u001b[0;34m\u001b[0m\u001b[0m\n\u001b[0m\u001b[1;32m    209\u001b[0m         \u001b[0;32mif\u001b[0m \u001b[0mcallback\u001b[0m\u001b[0;34m:\u001b[0m\u001b[0;34m\u001b[0m\u001b[0;34m\u001b[0m\u001b[0m\n\u001b[1;32m    210\u001b[0m             \u001b[0mcallback\u001b[0m\u001b[0;34m(\u001b[0m\u001b[0mresult\u001b[0m\u001b[0;34m)\u001b[0m\u001b[0;34m\u001b[0m\u001b[0;34m\u001b[0m\u001b[0m\n",
            "\u001b[0;32m/usr/local/lib/python3.6/dist-packages/joblib/_parallel_backends.py\u001b[0m in \u001b[0;36m__init__\u001b[0;34m(self, batch)\u001b[0m\n\u001b[1;32m    570\u001b[0m         \u001b[0;31m# Don't delay the application, to avoid keeping the input\u001b[0m\u001b[0;34m\u001b[0m\u001b[0;34m\u001b[0m\u001b[0;34m\u001b[0m\u001b[0m\n\u001b[1;32m    571\u001b[0m         \u001b[0;31m# arguments in memory\u001b[0m\u001b[0;34m\u001b[0m\u001b[0;34m\u001b[0m\u001b[0;34m\u001b[0m\u001b[0m\n\u001b[0;32m--> 572\u001b[0;31m         \u001b[0mself\u001b[0m\u001b[0;34m.\u001b[0m\u001b[0mresults\u001b[0m \u001b[0;34m=\u001b[0m \u001b[0mbatch\u001b[0m\u001b[0;34m(\u001b[0m\u001b[0;34m)\u001b[0m\u001b[0;34m\u001b[0m\u001b[0;34m\u001b[0m\u001b[0m\n\u001b[0m\u001b[1;32m    573\u001b[0m \u001b[0;34m\u001b[0m\u001b[0m\n\u001b[1;32m    574\u001b[0m     \u001b[0;32mdef\u001b[0m \u001b[0mget\u001b[0m\u001b[0;34m(\u001b[0m\u001b[0mself\u001b[0m\u001b[0;34m)\u001b[0m\u001b[0;34m:\u001b[0m\u001b[0;34m\u001b[0m\u001b[0;34m\u001b[0m\u001b[0m\n",
            "\u001b[0;32m/usr/local/lib/python3.6/dist-packages/joblib/parallel.py\u001b[0m in \u001b[0;36m__call__\u001b[0;34m(self)\u001b[0m\n\u001b[1;32m    251\u001b[0m         \u001b[0;32mwith\u001b[0m \u001b[0mparallel_backend\u001b[0m\u001b[0;34m(\u001b[0m\u001b[0mself\u001b[0m\u001b[0;34m.\u001b[0m\u001b[0m_backend\u001b[0m\u001b[0;34m,\u001b[0m \u001b[0mn_jobs\u001b[0m\u001b[0;34m=\u001b[0m\u001b[0mself\u001b[0m\u001b[0;34m.\u001b[0m\u001b[0m_n_jobs\u001b[0m\u001b[0;34m)\u001b[0m\u001b[0;34m:\u001b[0m\u001b[0;34m\u001b[0m\u001b[0;34m\u001b[0m\u001b[0m\n\u001b[1;32m    252\u001b[0m             return [func(*args, **kwargs)\n\u001b[0;32m--> 253\u001b[0;31m                     for func, args, kwargs in self.items]\n\u001b[0m\u001b[1;32m    254\u001b[0m \u001b[0;34m\u001b[0m\u001b[0m\n\u001b[1;32m    255\u001b[0m     \u001b[0;32mdef\u001b[0m \u001b[0m__reduce__\u001b[0m\u001b[0;34m(\u001b[0m\u001b[0mself\u001b[0m\u001b[0;34m)\u001b[0m\u001b[0;34m:\u001b[0m\u001b[0;34m\u001b[0m\u001b[0;34m\u001b[0m\u001b[0m\n",
            "\u001b[0;32m/usr/local/lib/python3.6/dist-packages/joblib/parallel.py\u001b[0m in \u001b[0;36m<listcomp>\u001b[0;34m(.0)\u001b[0m\n\u001b[1;32m    251\u001b[0m         \u001b[0;32mwith\u001b[0m \u001b[0mparallel_backend\u001b[0m\u001b[0;34m(\u001b[0m\u001b[0mself\u001b[0m\u001b[0;34m.\u001b[0m\u001b[0m_backend\u001b[0m\u001b[0;34m,\u001b[0m \u001b[0mn_jobs\u001b[0m\u001b[0;34m=\u001b[0m\u001b[0mself\u001b[0m\u001b[0;34m.\u001b[0m\u001b[0m_n_jobs\u001b[0m\u001b[0;34m)\u001b[0m\u001b[0;34m:\u001b[0m\u001b[0;34m\u001b[0m\u001b[0;34m\u001b[0m\u001b[0m\n\u001b[1;32m    252\u001b[0m             return [func(*args, **kwargs)\n\u001b[0;32m--> 253\u001b[0;31m                     for func, args, kwargs in self.items]\n\u001b[0m\u001b[1;32m    254\u001b[0m \u001b[0;34m\u001b[0m\u001b[0m\n\u001b[1;32m    255\u001b[0m     \u001b[0;32mdef\u001b[0m \u001b[0m__reduce__\u001b[0m\u001b[0;34m(\u001b[0m\u001b[0mself\u001b[0m\u001b[0;34m)\u001b[0m\u001b[0;34m:\u001b[0m\u001b[0;34m\u001b[0m\u001b[0;34m\u001b[0m\u001b[0m\n",
            "\u001b[0;32m/usr/local/lib/python3.6/dist-packages/sklearn/ensemble/_forest.py\u001b[0m in \u001b[0;36m_parallel_build_trees\u001b[0;34m(tree, forest, X, y, sample_weight, tree_idx, n_trees, verbose, class_weight, n_samples_bootstrap)\u001b[0m\n\u001b[1;32m    163\u001b[0m             \u001b[0mcurr_sample_weight\u001b[0m \u001b[0;34m*=\u001b[0m \u001b[0mcompute_sample_weight\u001b[0m\u001b[0;34m(\u001b[0m\u001b[0;34m'balanced'\u001b[0m\u001b[0;34m,\u001b[0m \u001b[0my\u001b[0m\u001b[0;34m,\u001b[0m \u001b[0mindices\u001b[0m\u001b[0;34m)\u001b[0m\u001b[0;34m\u001b[0m\u001b[0;34m\u001b[0m\u001b[0m\n\u001b[1;32m    164\u001b[0m \u001b[0;34m\u001b[0m\u001b[0m\n\u001b[0;32m--> 165\u001b[0;31m         \u001b[0mtree\u001b[0m\u001b[0;34m.\u001b[0m\u001b[0mfit\u001b[0m\u001b[0;34m(\u001b[0m\u001b[0mX\u001b[0m\u001b[0;34m,\u001b[0m \u001b[0my\u001b[0m\u001b[0;34m,\u001b[0m \u001b[0msample_weight\u001b[0m\u001b[0;34m=\u001b[0m\u001b[0mcurr_sample_weight\u001b[0m\u001b[0;34m,\u001b[0m \u001b[0mcheck_input\u001b[0m\u001b[0;34m=\u001b[0m\u001b[0;32mFalse\u001b[0m\u001b[0;34m)\u001b[0m\u001b[0;34m\u001b[0m\u001b[0;34m\u001b[0m\u001b[0m\n\u001b[0m\u001b[1;32m    166\u001b[0m     \u001b[0;32melse\u001b[0m\u001b[0;34m:\u001b[0m\u001b[0;34m\u001b[0m\u001b[0;34m\u001b[0m\u001b[0m\n\u001b[1;32m    167\u001b[0m         \u001b[0mtree\u001b[0m\u001b[0;34m.\u001b[0m\u001b[0mfit\u001b[0m\u001b[0;34m(\u001b[0m\u001b[0mX\u001b[0m\u001b[0;34m,\u001b[0m \u001b[0my\u001b[0m\u001b[0;34m,\u001b[0m \u001b[0msample_weight\u001b[0m\u001b[0;34m=\u001b[0m\u001b[0msample_weight\u001b[0m\u001b[0;34m,\u001b[0m \u001b[0mcheck_input\u001b[0m\u001b[0;34m=\u001b[0m\u001b[0;32mFalse\u001b[0m\u001b[0;34m)\u001b[0m\u001b[0;34m\u001b[0m\u001b[0;34m\u001b[0m\u001b[0m\n",
            "\u001b[0;32m/usr/local/lib/python3.6/dist-packages/sklearn/tree/_classes.py\u001b[0m in \u001b[0;36mfit\u001b[0;34m(self, X, y, sample_weight, check_input, X_idx_sorted)\u001b[0m\n\u001b[1;32m    875\u001b[0m             \u001b[0msample_weight\u001b[0m\u001b[0;34m=\u001b[0m\u001b[0msample_weight\u001b[0m\u001b[0;34m,\u001b[0m\u001b[0;34m\u001b[0m\u001b[0;34m\u001b[0m\u001b[0m\n\u001b[1;32m    876\u001b[0m             \u001b[0mcheck_input\u001b[0m\u001b[0;34m=\u001b[0m\u001b[0mcheck_input\u001b[0m\u001b[0;34m,\u001b[0m\u001b[0;34m\u001b[0m\u001b[0;34m\u001b[0m\u001b[0m\n\u001b[0;32m--> 877\u001b[0;31m             X_idx_sorted=X_idx_sorted)\n\u001b[0m\u001b[1;32m    878\u001b[0m         \u001b[0;32mreturn\u001b[0m \u001b[0mself\u001b[0m\u001b[0;34m\u001b[0m\u001b[0;34m\u001b[0m\u001b[0m\n\u001b[1;32m    879\u001b[0m \u001b[0;34m\u001b[0m\u001b[0m\n",
            "\u001b[0;32m/usr/local/lib/python3.6/dist-packages/sklearn/tree/_classes.py\u001b[0m in \u001b[0;36mfit\u001b[0;34m(self, X, y, sample_weight, check_input, X_idx_sorted)\u001b[0m\n\u001b[1;32m    365\u001b[0m                                            min_impurity_split)\n\u001b[1;32m    366\u001b[0m \u001b[0;34m\u001b[0m\u001b[0m\n\u001b[0;32m--> 367\u001b[0;31m         \u001b[0mbuilder\u001b[0m\u001b[0;34m.\u001b[0m\u001b[0mbuild\u001b[0m\u001b[0;34m(\u001b[0m\u001b[0mself\u001b[0m\u001b[0;34m.\u001b[0m\u001b[0mtree_\u001b[0m\u001b[0;34m,\u001b[0m \u001b[0mX\u001b[0m\u001b[0;34m,\u001b[0m \u001b[0my\u001b[0m\u001b[0;34m,\u001b[0m \u001b[0msample_weight\u001b[0m\u001b[0;34m,\u001b[0m \u001b[0mX_idx_sorted\u001b[0m\u001b[0;34m)\u001b[0m\u001b[0;34m\u001b[0m\u001b[0;34m\u001b[0m\u001b[0m\n\u001b[0m\u001b[1;32m    368\u001b[0m \u001b[0;34m\u001b[0m\u001b[0m\n\u001b[1;32m    369\u001b[0m         \u001b[0;32mif\u001b[0m \u001b[0mself\u001b[0m\u001b[0;34m.\u001b[0m\u001b[0mn_outputs_\u001b[0m \u001b[0;34m==\u001b[0m \u001b[0;36m1\u001b[0m \u001b[0;32mand\u001b[0m \u001b[0mis_classifier\u001b[0m\u001b[0;34m(\u001b[0m\u001b[0mself\u001b[0m\u001b[0;34m)\u001b[0m\u001b[0;34m:\u001b[0m\u001b[0;34m\u001b[0m\u001b[0;34m\u001b[0m\u001b[0m\n",
            "\u001b[0;31mKeyboardInterrupt\u001b[0m: "
          ]
        }
      ]
    },
    {
      "cell_type": "code",
      "metadata": {
        "id": "cxfcgDdYuzCa"
      },
      "source": [
        "scores = cross_val_score(dt, reviews.Coment,reviews.ID, cv=10)\n",
        "cross_val_count.append(scores.mean())\n",
        "print(scores)\n",
        "print(\"Accuracy of Decision tree with 10 fold Cross validation: %0.2f (+/- %0.2f)\" % (scores.mean(), scores.std() * 2))"
      ],
      "execution_count": null,
      "outputs": []
    },
    {
      "cell_type": "code",
      "metadata": {
        "id": "rrWmFxwiu2En"
      },
      "source": [
        "print(cross_val_count)"
      ],
      "execution_count": null,
      "outputs": []
    },
    {
      "cell_type": "code",
      "metadata": {
        "id": "gwN_T1F-u5Gn"
      },
      "source": [
        "from google.colab import files\n",
        "import matplotlib.pyplot as plt\n",
        "import numpy as np\n",
        "\n",
        "\n",
        "#def plot_bar_x():\n",
        "    # this is for plotting purpose\n",
        "index = np.arange(len(algo_tag))\n",
        "plt.bar(index, cross_val_count)\n",
        "plt.xlabel('ALGO', fontsize=20)\n",
        "plt.ylabel('Accuracy with Cross Validation ', fontsize=15)\n",
        "plt.xticks(index, algo_tag, fontsize=20, rotation=80)\n",
        "plt.title('Average Classification accuracy with 10 fold Cross Validation',fontsize=30)\n",
        "plt.show()\n",
        "plt.savefig(\"cross classification.png\")\n",
        "#files.download(\"algo classification.png\") \n"
      ],
      "execution_count": null,
      "outputs": []
    },
    {
      "cell_type": "code",
      "metadata": {
        "id": "y-VqWaFSu-2K",
        "colab": {
          "base_uri": "https://localhost:8080/",
          "height": 34
        },
        "outputId": "0bcd9b54-b465-4c65-ddb5-303b3ef221d9"
      },
      "source": [
        "sample_news = ['নোয়াখালী জেলা পরিষদের সাবেক ও বর্তমান দুই সহকারী প্রকৌশলী ও এক ঠিকাদারের বিরুদ্ধে সরকারি অর্থ আত্মসাতের অভিযোগে মামলা করেছে দুদক। আজ মঙ্গলবার দুর্নীতি দমন কমিশনের (দুদক) সমন্বিত জেলা কার্যালয়ে সহকারী পরিচালক সুবেল আহমেদ বাদী হয়ে এ মামলা করেন।']\n",
        "#sample_news = tfidf.transform(sample_news).toarray()\n",
        "catagory = sgd.predict(sample_news)\n",
        "print(catagory)"
      ],
      "execution_count": null,
      "outputs": [
        {
          "output_type": "stream",
          "text": [
            "[4]\n"
          ],
          "name": "stdout"
        }
      ]
    },
    {
      "cell_type": "code",
      "metadata": {
        "id": "SSxhW_LK08dc",
        "colab": {
          "base_uri": "https://localhost:8080/",
          "height": 34
        },
        "outputId": "07ed1fcc-c68d-498b-db8d-5fd0a925f86b"
      },
      "source": [
        "sample_news = ['ফ্রান্সের বাওয়ান শহরে বন্দুকধারীর হামলায় দুজন আহত হয়েছেন। বিবিসি অনলাইনের এক প্রতিবেদনে বলা হয়েছে, আহত দুজনের অবস্থা আশঙ্কাজনক। বয়স্ক ওই বন্দুকধারী মসজিদের দরজায় আগুন লাগানোর চেষ্টাও করছিলেন। পুলিশ সন্দেহভাজন হিসেবে ওই ব্যক্তিকে আটক করেছে।']\n",
        "#sample_news = tfidf.transform(sample_news).toarray()\n",
        "catagory = sgd.predict(sample_news)\n",
        "print(catagory)"
      ],
      "execution_count": null,
      "outputs": [
        {
          "output_type": "stream",
          "text": [
            "[2]\n"
          ],
          "name": "stdout"
        }
      ]
    },
    {
      "cell_type": "code",
      "metadata": {
        "id": "vPqr2JkM1RDS",
        "colab": {
          "base_uri": "https://localhost:8080/",
          "height": 34
        },
        "outputId": "40e72b65-beab-45f1-d242-591b85b55591"
      },
      "source": [
        "sample_news = ['পেঁয়াজের সংকটের মধ্যে এস আলম গ্রুপ মিসর থেকে ৫০ হাজার টনের বড় চালান আমদানির ঋণপত্র খুলেছে। আগামী মাসের শুরুতে এই বড় চালান দেশে এসে পৌঁছানোর কথা রয়েছে।']\n",
        "#sample_news = tfidf.transform(sample_news).toarray()\n",
        "catagory = sgd.predict(sample_news)\n",
        "print(catagory)"
      ],
      "execution_count": null,
      "outputs": [
        {
          "output_type": "stream",
          "text": [
            "[0]\n"
          ],
          "name": "stdout"
        }
      ]
    },
    {
      "cell_type": "code",
      "metadata": {
        "id": "_BJ3ucvE1dZ8",
        "colab": {
          "base_uri": "https://localhost:8080/",
          "height": 34
        },
        "outputId": "5e58fda6-3fd3-4043-9bc4-0e5668995fc5"
      },
      "source": [
        "sample_news = ['আইসিসির দুর্নীতি দমন বিভাগের আচরণবিধিতে বলা আছে, কোনো ক্রিকেটার অনৈতিক প্রস্তাব পেলে তা আকসুকে না জানিয়ে চেপে গেলে সেটি অপরাধ বলে গণ্য হবে। আন্তর্জাতিক ক্রিকেটে এমন কাজ করে শাস্তি পাওয়া ক্রিকেটার আছেন অনেকেই। উমর আকমলের কথাই ধরুন। গত বছর এক টিভি সাক্ষাৎকারে স্পট ফিক্সিংয়ের প্রস্তাব পেয়েছিলেন বলে দাবি করেন পাকিস্তানের এ ব্যাটসম্যান। এরপরই নড়চড়ে বসে আইসিসি। পাকিস্তান ক্রিকেট বোর্ডের তরফ থেকেও ব্যাখ্যা চাওয়া হয়েছিল উমর আকমলের কাছে। আইসিসিও সে ঘটনার তদন্ত করেছিল।']\n",
        "#sample_news = tfidf.transform(sample_news).toarray()\n",
        "catagory = sgd.predict(sample_news)\n",
        "print(catagory)"
      ],
      "execution_count": null,
      "outputs": [
        {
          "output_type": "stream",
          "text": [
            "[3]\n"
          ],
          "name": "stdout"
        }
      ]
    },
    {
      "cell_type": "code",
      "metadata": {
        "id": "YiMrbbSA18Lr",
        "colab": {
          "base_uri": "https://localhost:8080/",
          "height": 34
        },
        "outputId": "77d2aa19-b8aa-45a3-9e26-b4c81c493df0"
      },
      "source": [
        "sample_news = ['আরনল্ড শোয়ার্জেনেগারের ‘টার্মিনেটর: ডার্ক ফেইট’ ছবিটি যুক্তরাজ্যে মুক্তি পাবে ৩১ অক্টোবর আর যুক্তরাষ্ট্রে ১ নভেম্বর। তার আগে ছবিটির উদ্বোধনী প্রদর্শনীর আয়োজন করা হয় লস অ্যাঞ্জেলেসে। আমন্ত্রণ জানানো হয় হলিউডের জনপ্রিয় অনেক তারকা আর ছবির শিল্পী, কলাকুশলী ও তাঁদের পরিবারের সদস্যদের।']\n",
        "#sample_news = tfidf.transform(sample_news).toarray()\n",
        "catagory = sgd.predict(sample_news)\n",
        "print(catagory)"
      ],
      "execution_count": null,
      "outputs": [
        {
          "output_type": "stream",
          "text": [
            "[1]\n"
          ],
          "name": "stdout"
        }
      ]
    },
    {
      "cell_type": "code",
      "metadata": {
        "id": "sY598atj5Uob",
        "colab": {
          "base_uri": "https://localhost:8080/",
          "height": 34
        },
        "outputId": "9a3655d4-3c33-43be-b9ed-8891731344d6"
      },
      "source": [
        "sample_news = ['জুয়েলসহ গতকাল রূপনগরে বেলুনের গ্যাস সিলিন্ডার বিস্ফোরণের ঘটনায় তিন শিশুসহ আহত ছয়জন ঢাকা মেডিকেল কলেজ হাসপাতালে চিকিৎসাধীন। তারা হলেন শিশু মিজান (৬), জনি(৯) সিয়াম (১১), গৃহবধূ জান্নাত বেগম (২৬), রিকশাচালক জুয়েল ও বেলুন বিক্রেতা আবু সাইদ (৩০)। এদের মধ্যে নয় বছর বয়সী জনি মায়ের কাছ থেকে টাকা নিয়ে ছোট বোন তাসনিয়ার জন্য বেলুন কিনতে যায়। এরপরই ভয়াবহ দুর্ঘটনার কবলে পড়ে জনি। গুরুতর আহত জনি ঢাকা মেডিকেল কলেজ হাসপাতালের ক্যাজুয়ালটি বিভাগের অধীনে শিশু ওয়ার্ডে ভর্তি রয়েছে।']\n",
        "#sample_news = tfidf.transform(sample_news).toarray()\n",
        "catagory = sgd.predict(sample_news)\n",
        "print(catagory)"
      ],
      "execution_count": null,
      "outputs": [
        {
          "output_type": "stream",
          "text": [
            "[4]\n"
          ],
          "name": "stdout"
        }
      ]
    },
    {
      "cell_type": "code",
      "metadata": {
        "id": "QgInuf5sAKow",
        "colab": {
          "base_uri": "https://localhost:8080/",
          "height": 34
        },
        "outputId": "4058d2d9-8beb-4d79-cb21-eca2c133cd4d"
      },
      "source": [
        "sample_news = ['বাংলাদেশ আগামী এপ্রিলের তৃতীয় সপ্তাহে ৮টি বৃহৎ মুসলিম রাষ্ট্রের সংগঠন ডি-এইট-এর দশম সম্মেলনের আয়োজন করবে। ডি-এইট-এর মহাসচিব রাষ্ট্রদূত জাফর কু শারি আজ বৃহস্পতিবার প্রধানমন্ত্রীর কার্যালয়ে (পিএমও) শেখ হাসিনার সঙ্গে সৌজন্য সাক্ষাৎ করেন।প্রধানমন্ত্রীর প্রেস সচিব ইহসানুল করিম বৈঠকের পর সাংবাদিকদের ব্রিফ করেন। তিনি বলেন, ‘ডি-এইট-এর আগামী ঢাকা সম্মেলনে বাংলাদেশকে জোটের পরবর্তী চেয়ারম্যান করা হবে, যা কাকতালীয়ভাবে ২০২০ সালে জাতির পিতা বঙ্গবন্ধু শেখ মুজিবুর রহমানের জন্মশতবার্ষিকী এবং ২০২১ সালে স্বাধীনতার সুবর্ণজয়ন্তী উদ্যাপনের সঙ্গে মিলে গেছে।']\n",
        "#sample_news = tfidf.transform(sample_news).toarray()\n",
        "catagory = sgd.predict(sample_news)\n",
        "print(catagory)"
      ],
      "execution_count": null,
      "outputs": [
        {
          "output_type": "stream",
          "text": [
            "[0]\n"
          ],
          "name": "stdout"
        }
      ]
    },
    {
      "cell_type": "code",
      "metadata": {
        "id": "_-DanVhyAbpF",
        "colab": {
          "base_uri": "https://localhost:8080/",
          "height": 34
        },
        "outputId": "d2e55b16-f311-4059-a3bd-21bfd9af8558"
      },
      "source": [
        "sample_news = ['ক্যাসিনোবিরোধী অভিযান শুরু হওয়ার পর থেকে দেশের ক্যাসিনো জুয়াড়িতে নানা তথ্য উঠে আসছে অনুসন্ধানে। গণমাধ্যমেও নানা ধরনের খবর আসে। আইনশৃঙ্খলা রক্ষাকারী বাহিনীর বরাতে জানা যায়, দেশের অনেক ‘রাঘববোয়াল’ সিঙ্গাপুরের ম্যারিনা বেসহ অন্যান্য ক্যাসিনোতে জুয়া খেলতে যেতেন। সেখানে ভিআইপি মর্যাদা পাওয়া অনেক বাংলাদেশি জুয়াড়ি লাখ লাখ ডলারের জুয়া খেলতেন।']\n",
        "#sample_news = tfidf.transform(sample_news).toarray()\n",
        "catagory = sgd.predict(sample_news)\n",
        "print(catagory)\n"
      ],
      "execution_count": null,
      "outputs": [
        {
          "output_type": "stream",
          "text": [
            "[1]\n"
          ],
          "name": "stdout"
        }
      ]
    },
    {
      "cell_type": "code",
      "metadata": {
        "id": "MS99YkYsJbAx",
        "colab": {
          "base_uri": "https://localhost:8080/",
          "height": 34
        },
        "outputId": "eebb8fb4-ca8e-42ae-f79d-4794f2064513"
      },
      "source": [
        "sample_news = ['বিমান কর্তৃপক্ষ জানিয়েছে, প্রাথমিকভাবে চট্টগ্রাম-মদিনা রুটে প্রতি বৃহস্পতিবার সরাসরি ফ্লাইট পরিচালনা করা হবে। পরে যাত্রী বাড়লেও ফ্লাইটও বাড়ানো হবে। মদিনা ফ্লাইট উদ্বোধন উপলক্ষে উভয় রুটের যাত্রীদের জন্য টিকিটে ১৫ শতাংশ ছাড় দেওয়া হয়েছে। এর আগে গত সোমবার চালু হয় বিমানের ঢাকা-মদিনা ফ্লাইট।']\n",
        "#sample_news = tfidf.transform(sample_news).toarray()\n",
        "catagory = sgd.predict(sample_news)\n",
        "print(catagory)"
      ],
      "execution_count": null,
      "outputs": [
        {
          "output_type": "stream",
          "text": [
            "[0]\n"
          ],
          "name": "stdout"
        }
      ]
    },
    {
      "cell_type": "code",
      "metadata": {
        "id": "_zIjowUyKJLw",
        "colab": {
          "base_uri": "https://localhost:8080/",
          "height": 34
        },
        "outputId": "e6889abb-d960-4a24-e900-b6982142c657"
      },
      "source": [
        "sample_news = ['ঢাকার পর এবার চট্টগ্রাম থেকেও সৌদি আরবের মদিনায় বিমান বাংলাদেশের সরাসরি ফ্লাইট চালু হলো। আজ বৃহস্পতিবার বেলা সোয়া একটায় ২৬৫ জন যাত্রী নিয়ে বিজি-১৩৭ ফ্লাইটটি চট্টগ্রামের শাহ আমানত আন্তর্জাতিক বিমানবন্দর ছেড়ে যায়।বেসামরিক বিমান পরিবহন ও পর্যটন প্রতিমন্ত্রী মো. মাহবুব আলী এ ফ্লাইটের উদ্বোধন করেন। মদিনা থেকে ফিরতি ফ্লাইট বিজি-১৩৮ স্থানীয় সময় আজ সন্ধ্যা সোয়া সাতটায় ছেড়ে আগামীকাল চারটা ২৫ মিনিটে চট্টগ্রাম পৌঁছার কথা রয়েছে।']\n",
        "#sample_news = tfidf.transform(sample_news).toarray()\n",
        "catagory = sgd.predict(sample_news)\n",
        "print(catagory)"
      ],
      "execution_count": null,
      "outputs": [
        {
          "output_type": "stream",
          "text": [
            "[3]\n"
          ],
          "name": "stdout"
        }
      ]
    },
    {
      "cell_type": "code",
      "metadata": {
        "id": "CXPwnD0YKeBP",
        "colab": {
          "base_uri": "https://localhost:8080/",
          "height": 34
        },
        "outputId": "6aa9dc0c-d38a-46ab-9d46-b57c21bd7248"
      },
      "source": [
        "sample_news = ['রাজশাহী বিশ্ববিদ্যালয়ে একশনএইড-প্রথম আলো বন্ধুসভা আয়োজিত রাজশাহী অঞ্চলের জাতীয় বিতর্ক উৎসব-২০১৯ শুরু হয়েছে। ‘গৃহস্থালির সেবামূলক কাজের মূল্যায়ন; আনবে সমতা, করবে উন্নয়ন’ শীর্ষক বিতর্ক উৎসবে সারা দেশের বিভিন্ন শিক্ষাপ্রতিষ্ঠানের বিতর্ক সংগঠন অংশ নিয়েছে।']\n",
        "#sample_news = tfidf.transform(sample_news).toarray()\n",
        "catagory = sgd.predict(sample_news)\n",
        "print(catagory)"
      ],
      "execution_count": null,
      "outputs": [
        {
          "output_type": "stream",
          "text": [
            "[1]\n"
          ],
          "name": "stdout"
        }
      ]
    },
    {
      "cell_type": "code",
      "metadata": {
        "id": "PnkPm76qMQwO"
      },
      "source": [
        "sample_news = ['রাজশাহী বিশ্ববিদ্যালয়ে একশনএইড-প্রথম আলো বন্ধুসভা আয়োজিত রাজশাহী অঞ্চলের জাতীয় বিতর্ক উৎসব-২০১৯ শুরু হয়েছে। ‘গৃহস্থালির সেবামূলক কাজের মূল্যায়ন; আনবে সমতা, করবে উন্নয়ন’ শীর্ষক বিতর্ক উৎসবে সারা দেশের বিভিন্ন শিক্ষাপ্রতিষ্ঠানের বিতর্ক সংগঠন অংশ নিয়েছে।']\n",
        "#sample_news = tfidf.transform(sample_news).toarray()\n",
        "catagory = sgd.predict(sample_news)\n",
        "print(catagory)\n"
      ],
      "execution_count": null,
      "outputs": []
    },
    {
      "cell_type": "code",
      "metadata": {
        "id": "D822MtwoQwaW",
        "colab": {
          "base_uri": "https://localhost:8080/",
          "height": 34
        },
        "outputId": "abca1281-7806-4815-f8de-7c768105d289"
      },
      "source": [
        "sample_news = ['জাতীয় সম্মেলন সামনে রেখে অনুপ্রবেশকারীদের তালিকা তৈরি করেছে আওয়ামী লীগ। জেলা থেকে শুরু করে প্রতিটি সম্মেলনে এ তালিকা ধরে অনুপ্রবেশকারীদের দল থেকে বাদ দেওয়া হবে। গণমাধ্যমকে এমন তথ্য জানিয়েছেন আওয়ামী লীগের সাধারণ সম্পাদক এবং সড়ক পরিবহন ও সেতুমন্ত্রী ওবায়দুল কাদের।আজ ধানমন্ডিতে আওয়ামী লীগ সভাপতির রাজনৈতিক কার্যালয়ে সম্পাদকমণ্ডলীর সভা শেষে আয়োজিত সংবাদ সম্মেলনে এ তথ্য জানান ওবায়দুল কাদের।']\n",
        "#sample_news = tfidf.transform(sample_news).toarray()\n",
        "catagory = sgd.predict(sample_news)\n",
        "print(catagory)"
      ],
      "execution_count": null,
      "outputs": [
        {
          "output_type": "stream",
          "text": [
            "[4]\n"
          ],
          "name": "stdout"
        }
      ]
    },
    {
      "cell_type": "code",
      "metadata": {
        "id": "JU87gjnwQ4vr",
        "colab": {
          "base_uri": "https://localhost:8080/",
          "height": 34
        },
        "outputId": "1879a682-06d3-4434-cf1d-ae71b927b857"
      },
      "source": [
        "sample_news = ['রোহিঙ্গা প্রত্যাবাসনের জন্য রাখাইনে উপযোগী পরিবেশ তৈরি না করে বাংলাদেশের বিরুদ্ধে দায় চাপানোটা মিয়ানমারের নতুন কৌশল নয়। তবে এবার আজারবাইজানের রাজধানী বাকুতে ন্যাম শীর্ষ সম্মেলনের সময় রোহিঙ্গাদের নিয়ে উদ্ভট এক দাবি করে বসেছে দেশটি। ন্যামের মন্ত্রিপর্যায়ের সম্মেলনে মিয়ানমারের আন্তর্জাতিক সহযোগিতাবিষয়ক মন্ত্রী কিউ তিন বলেছেন, বাংলাদেশে ১৯৭১ সালের মুক্তিযুদ্ধের সময় বিপুল লোকের ঢল নেমেছিল মিয়ানমারে।']\n",
        "#sample_news = tfidf.transform(sample_news).toarray()\n",
        "catagory = sgd.predict(sample_news)\n",
        "print(catagory)"
      ],
      "execution_count": null,
      "outputs": [
        {
          "output_type": "stream",
          "text": [
            "[2]\n"
          ],
          "name": "stdout"
        }
      ]
    },
    {
      "cell_type": "code",
      "metadata": {
        "id": "870Uf2KORTDL",
        "colab": {
          "base_uri": "https://localhost:8080/",
          "height": 34
        },
        "outputId": "7a8567ec-cd9f-4a18-8ead-94e813b89549"
      },
      "source": [
        "sample_news = ['রোহিঙ্গা প্রত্যাবাসনের জন্য রাখাইনে উপযোগী পরিবেশ তৈরি না করে বাংলাদেশের বিরুদ্ধে দায় চাপানোটা মিয়ানমারের নতুন কৌশল নয়। তবে এবার আজারবাইজানের রাজধানী বাকুতে ন্যাম শীর্ষ সম্মেলনের সময় রোহিঙ্গাদের নিয়ে উদ্ভট এক দাবি করে বসেছে দেশটি। ন্যামের মন্ত্রিপর্যায়ের সম্মেলনে মিয়ানমারের আন্তর্জাতিক সহযোগিতাবিষয়ক মন্ত্রী কিউ তিন বলেছেন, বাংলাদেশে ১৯৭১ সালের মুক্তিযুদ্ধের সময় বিপুল লোকের ঢল নেমেছিল মিয়ানমারে।গতকাল বুধবার পররাষ্ট্র মন্ত্রণালয় এক বিজ্ঞপ্তিতে মিয়ানমারের আন্তর্জাতিক সহযোগিতা বিষয়ক মন্ত্রীর ওই বক্তব্যের প্রতিবাদ জানিয়ে দেশটিকে সতর্ক করে দিয়েছে।বাংলাদেশ বলেছে, মিয়ানমার সরকারের অবশ্যই বানানো প্রচারণা বন্ধ করে প্রত্যাবাসনের ক্ষেত্রে বাধ্যবাধকতা পূরণে মনোযোগী হওয়া উচিত। রোহিঙ্গাদের স্বেচ্ছায় ফিরে যাওয়ার ব্যাপারে যে প্রতিবন্ধকতা আছে, তা দূর করতে মিয়ানমারকে অবশ্যই কার্যকর পদক্ষেপ নিতে হবে।বাংলাদেশের কূটনীতিকদের সঙ্গে কথা বলে জানা গেছে, রোহিঙ্গাদের একাত্তরের মুক্তিযুদ্ধের সময় বাংলাদেশ থেকে রাখাইনে যাওয়ার নতুন ওই তত্ত্ব মিয়ানমার এমন একসময় আন্তর্জাতিক পরিমণ্ডলে এনেছে, যখন প্রত্যাবাসনের বিষয়ে চীনের মধ্যস্থতায় দুই দেশ আলোচনায় বসেছে। সম্প্রতি ঢাকায় তিন দেশ রোহিঙ্গা প্রত্যাবাসনের খুঁটিনাটি বিভিন্ন বিষয় নিয়ে এক অনানুষ্ঠানিক বৈঠকও করেছে। প্রত্যাবাসন নিয়ে দুই দেশের কোথায় কী করা দরকার আর চীন কীভাবে দুই পক্ষকে সহযোগিতা করবে, তা নিয়ে আলোচনা হয়েছে।বৈশ্বিক পরিমণ্ডলে নেতৃত্বের বিষয়টিতে অগ্রাধিকার দিয়ে চীন সাম্প্রতিক মাসগুলোতে রোহিঙ্গা সংকট সমাধানে বিশেষ মনোযোগ দিচ্ছে। গত ২২ আগস্টের প্রত্যাবাসন পরিকল্পনা ভেস্তে যাওয়ার পর দুই দেশকে নিয়ে প্রত্যাবাসনের চেষ্টা চালিয়ে যাচ্ছে চীন। বিশেষ করে রাখাইনের পরিবেশ নিয়ে রোহিঙ্গা ও আন্তর্জাতিক সম্প্রদায়ের যে আস্থা নেই, সেটা প্রত্যাবাসনের দ্বিতীয় দফা উদ্যোগ ভেস্তে যাওয়ার পর স্পষ্ট হয়েছে। তাই প্রত্যাবাসনে মধ্যস্থতার হিসেবে নিউইয়র্কে জাতিসংঘ সাধারণ পরিষদের অধিবেশনের ফাঁকে তিন দেশের মন্ত্রীদের বৈঠকে ত্রিপক্ষীয় কমিটি করা হয়েছে। ওই কমিটি ঢাকায় বৈঠক করেছে। গত সপ্তাহে ঢাকায় তিন দেশের ওই বৈঠকে রাখাইনের পরিবেশ ফেরানোর বিষয়টি নিয়ে আলোচনা হয়েছে। বিশেষ করে বিচ্ছিন্নতাবাদী গোষ্ঠীর সঙ্গে আরাকান আর্মির সংঘাত যে রোহিঙ্গা প্রত্যাবাসনের পথে নতুন কাঁটা, সে বিষয়টিকে বিবেচনায় নেওয়ার প্রয়োজন আছে। তাই রাখাইনে অনুকূল পরিবেশ ফেরানোসহ রোহিঙ্গা প্রত্যাবাসনের উদ্যোগটি যেন শেষ পর্যন্ত কাজে আসে, সে ব্যাপারে চীনের জোর চেষ্টা চালানো উচিত বলে মনে করছে কূটনৈতিক সূত্রগুলো। কারণ, চীন এই প্রক্রিয়ায় সফল না হলে আন্তর্জাতিক পরিমণ্ডলে দেশটির নেতৃত্ব নিয়ে প্রশ্ন উঠবে।বৈশ্বিক পরিমণ্ডলে নেতৃত্বের বিষয়টিতে অগ্রাধিকার দিয়ে চীন সাম্প্রতিক মাসগুলোতে রোহিঙ্গা সংকট সমাধানে বিশেষ মনোযোগ দিচ্ছে। গত ২২ আগস্টের প্রত্যাবাসন পরিকল্পনা ভেস্তে যাওয়ার পর দুই দেশকে নিয়ে প্রত্যাবাসনের চেষ্টা চালিয়ে যাচ্ছে চীন। বিশেষ করে রাখাইনের পরিবেশ নিয়ে রোহিঙ্গা ও আন্তর্জাতিক সম্প্রদায়ের যে আস্থা নেই, সেটা প্রত্যাবাসনের দ্বিতীয় দফা উদ্যোগ ভেস্তে যাওয়ার পর স্পষ্ট হয়েছে। তাই প্রত্যাবাসনে মধ্যস্থতার হিসেবে নিউইয়র্কে জাতিসংঘ সাধারণ পরিষদের অধিবেশনের ফাঁকে তিন দেশের মন্ত্রীদের বৈঠকে ত্রিপক্ষীয় কমিটি করা হয়েছে। ওই কমিটি ঢাকায় বৈঠক করেছে। গত সপ্তাহে ঢাকায় তিন দেশের ওই বৈঠকে রাখাইনের পরিবেশ ফেরানোর বিষয়টি নিয়ে আলোচনা হয়েছে। বিশেষ করে বিচ্ছিন্নতাবাদী গোষ্ঠীর সঙ্গে আরাকান আর্মির সংঘাত যে রোহিঙ্গা প্রত্যাবাসনের পথে নতুন কাঁটা, সে বিষয়টিকে বিবেচনায় নেওয়ার প্রয়োজন আছে। তাই রাখাইনে অনুকূল পরিবেশ ফেরানোসহ রোহিঙ্গা প্রত্যাবাসনের উদ্যোগটি যেন শেষ পর্যন্ত কাজে আসে, সে ব্যাপারে চীনের জোর চেষ্টা চালানো উচিত বলে মনে করছে কূটনৈতিক সূত্রগুলো। কারণ, চীন এই প্রক্রিয়ায় সফল না হলে আন্তর্জাতিক পরিমণ্ডলে দেশটির নেতৃত্ব নিয়ে প্রশ্ন উঠবে।বৈশ্বিক পরিমণ্ডলে নেতৃত্বের বিষয়টিতে অগ্রাধিকার দিয়ে চীন সাম্প্রতিক মাসগুলোতে রোহিঙ্গা সংকট সমাধানে বিশেষ মনোযোগ দিচ্ছে। গত ২২ আগস্টের প্রত্যাবাসন পরিকল্পনা ভেস্তে যাওয়ার পর দুই দেশকে নিয়ে প্রত্যাবাসনের চেষ্টা চালিয়ে যাচ্ছে চীন। বিশেষ করে রাখাইনের পরিবেশ নিয়ে রোহিঙ্গা ও আন্তর্জাতিক সম্প্রদায়ের যে আস্থা নেই, সেটা প্রত্যাবাসনের দ্বিতীয় দফা উদ্যোগ ভেস্তে যাওয়ার পর স্পষ্ট হয়েছে। তাই প্রত্যাবাসনে মধ্যস্থতার হিসেবে নিউইয়র্কে জাতিসংঘ সাধারণ পরিষদের অধিবেশনের ফাঁকে তিন দেশের মন্ত্রীদের বৈঠকে ত্রিপক্ষীয় কমিটি করা হয়েছে। ওই কমিটি ঢাকায় বৈঠক করেছে। গত সপ্তাহে ঢাকায় তিন দেশের ওই বৈঠকে রাখাইনের পরিবেশ ফেরানোর বিষয়টি নিয়ে আলোচনা হয়েছে। বিশেষ করে বিচ্ছিন্নতাবাদী গোষ্ঠীর সঙ্গে আরাকান আর্মির সংঘাত যে রোহিঙ্গা প্রত্যাবাসনের পথে নতুন কাঁটা, সে বিষয়টিকে বিবেচনায় নেওয়ার প্রয়োজন আছে। তাই রাখাইনে অনুকূল পরিবেশ ফেরানোসহ রোহিঙ্গা প্রত্যাবাসনের উদ্যোগটি যেন শেষ পর্যন্ত কাজে আসে, সে ব্যাপারে চীনের জোর চেষ্টা চালানো উচিত বলে মনে করছে কূটনৈতিক সূত্রগুলো। কারণ, চীন এই প্রক্রিয়ায় সফল না হলে আন্তর্জাতিক পরিমণ্ডলে দেশটির নেতৃত্ব নিয়ে প্রশ্ন উঠবে।বৈশ্বিক পরিমণ্ডলে নেতৃত্বের বিষয়টিতে অগ্রাধিকার দিয়ে চীন সাম্প্রতিক মাসগুলোতে রোহিঙ্গা সংকট সমাধানে বিশেষ মনোযোগ দিচ্ছে। গত ২২ আগস্টের প্রত্যাবাসন পরিকল্পনা ভেস্তে যাওয়ার পর দুই দেশকে নিয়ে প্রত্যাবাসনের চেষ্টা চালিয়ে যাচ্ছে চীন। বিশেষ করে রাখাইনের পরিবেশ নিয়ে রোহিঙ্গা ও আন্তর্জাতিক সম্প্রদায়ের যে আস্থা নেই, সেটা প্রত্যাবাসনের দ্বিতীয় দফা উদ্যোগ ভেস্তে যাওয়ার পর স্পষ্ট হয়েছে। তাই প্রত্যাবাসনে মধ্যস্থতার হিসেবে নিউইয়র্কে জাতিসংঘ সাধারণ পরিষদের অধিবেশনের ফাঁকে তিন দেশের মন্ত্রীদের বৈঠকে ত্রিপক্ষীয় কমিটি করা হয়েছে। ওই কমিটি ঢাকায় বৈঠক করেছে। গত সপ্তাহে ঢাকায় তিন দেশের ওই বৈঠকে রাখাইনের পরিবেশ ফেরানোর বিষয়টি নিয়ে আলোচনা হয়েছে। বিশেষ করে বিচ্ছিন্নতাবাদী গোষ্ঠীর সঙ্গে আরাকান আর্মির সংঘাত যে রোহিঙ্গা প্রত্যাবাসনের পথে নতুন কাঁটা, সে বিষয়টিকে বিবেচনায় নেওয়ার প্রয়োজন আছে। তাই রাখাইনে অনুকূল পরিবেশ ফেরানোসহ রোহিঙ্গা প্রত্যাবাসনের উদ্যোগটি যেন শেষ পর্যন্ত কাজে আসে, সে ব্যাপারে চীনের জোর চেষ্টা চালানো উচিত বলে মনে করছে কূটনৈতিক সূত্রগুলো। কারণ, চীন এই প্রক্রিয়ায় সফল না হলে আন্তর্জাতিক পরিমণ্ডলে দেশটির নেতৃত্ব নিয়ে প্রশ্ন উঠবে।বৈশ্বিক পরিমণ্ডলে নেতৃত্বের বিষয়টিতে অগ্রাধিকার দিয়ে চীন সাম্প্রতিক মাসগুলোতে রোহিঙ্গা সংকট সমাধানে বিশেষ মনোযোগ দিচ্ছে। গত ২২ আগস্টের প্রত্যাবাসন পরিকল্পনা ভেস্তে যাওয়ার পর দুই দেশকে নিয়ে প্রত্যাবাসনের চেষ্টা চালিয়ে যাচ্ছে চীন। বিশেষ করে রাখাইনের পরিবেশ নিয়ে রোহিঙ্গা ও আন্তর্জাতিক সম্প্রদায়ের যে আস্থা নেই, সেটা প্রত্যাবাসনের দ্বিতীয় দফা উদ্যোগ ভেস্তে যাওয়ার পর স্পষ্ট হয়েছে। তাই প্রত্যাবাসনে মধ্যস্থতার হিসেবে নিউইয়র্কে জাতিসংঘ সাধারণ পরিষদের অধিবেশনের ফাঁকে তিন দেশের মন্ত্রীদের বৈঠকে ত্রিপক্ষীয় কমিটি করা হয়েছে। ওই কমিটি ঢাকায় বৈঠক করেছে। গত সপ্তাহে ঢাকায় তিন দেশের ওই বৈঠকে রাখাইনের পরিবেশ ফেরানোর বিষয়টি নিয়ে আলোচনা হয়েছে। বিশেষ করে বিচ্ছিন্নতাবাদী গোষ্ঠীর সঙ্গে আরাকান আর্মির সংঘাত যে রোহিঙ্গা প্রত্যাবাসনের পথে নতুন কাঁটা, সে বিষয়টিকে বিবেচনায় নেওয়ার প্রয়োজন আছে। তাই রাখাইনে অনুকূল পরিবেশ ফেরানোসহ রোহিঙ্গা প্রত্যাবাসনের উদ্যোগটি যেন শেষ পর্যন্ত কাজে আসে, সে ব্যাপারে চীনের জোর চেষ্টা চালানো উচিত বলে মনে করছে কূটনৈতিক সূত্রগুলো। কারণ, চীন এই প্রক্রিয়ায় সফল না হলে আন্তর্জাতিক পরিমণ্ডলে দেশটির নেতৃত্ব নিয়ে প্রশ্ন উঠবে।']\n",
        "#sample_news = tfidf.transform(sample_news).toarray()\n",
        "catagory = sgd.predict(sample_news)\n",
        "print(catagory)"
      ],
      "execution_count": null,
      "outputs": [
        {
          "output_type": "stream",
          "text": [
            "[2]\n"
          ],
          "name": "stdout"
        }
      ]
    },
    {
      "cell_type": "code",
      "metadata": {
        "id": "oRGZIE3NSTiR",
        "colab": {
          "base_uri": "https://localhost:8080/",
          "height": 34
        },
        "outputId": "db770025-c1c9-4ad4-cc5f-10091829b0af"
      },
      "source": [
        "sample_news = ['অতিথি বরণে সব আয়োজন সম্পন্ন। কোনো ঘাটতি না রাখতে অনুষ্ঠিত হয়েছে একাধিক প্রস্তুতি সভা। স্বেচ্ছাসেবকদের দেওয়া হয়েছে নির্দেশনা। এখন শুধু অতিথির অপেক্ষা। এই অতিথিরা হলেন নোয়াখালী বিজ্ঞান ও প্রযুক্তি বিশ্ববিদ্যালয়ে ভর্তি পরীক্ষা দিতে আসা শিক্ষার্থী ও তাঁদের অভিভাবকেরা। তাঁদের ভর্তি পরীক্ষার সময় বিনা খরচে থাকা ও খাওয়ার ব্যবস্থা করা হয়েছে।আগামীকাল শুক্রবার ও পরদিন শনিবার নোয়াখালী বিজ্ঞান ও প্রযুক্তি বিশ্ববিদ্যালয় ক্যাম্পাস ছাড়াও জেলার ২৯টি শিক্ষাপ্রতিষ্ঠানে ৫৯টি কেন্দ্রে এ ভর্তি পরীক্ষা অনুষ্ঠিত হবে। বিশ্ববিদ্যালয়ের ৬টি ইউনিটের ৩০টি বিভাগে মোট ৬৮ হাজার ৭৬০ জন পরীক্ষার্থী ভর্তিযুদ্ধে অবতীর্ণ হবেন বলে আশা করা হচ্ছে। এই অতিথিদের জন্যই সকল ব্যস্ততা এখন নোয়াখালীবাসীর। গত বছরও একইভাবে এই ব্যবস্থা নেওয়া হয়েছিল। এবারও ৬০ হাজার জনের জন্য ব্যবস্থা রয়েছে।']\n",
        "#sample_news = tfidf.transform(sample_news).toarray()\n",
        "catagory = sgd.predict(sample_news)\n",
        "print(catagory)"
      ],
      "execution_count": null,
      "outputs": [
        {
          "output_type": "stream",
          "text": [
            "[0]\n"
          ],
          "name": "stdout"
        }
      ]
    },
    {
      "cell_type": "code",
      "metadata": {
        "id": "FtibWzAJTMvb"
      },
      "source": [
        ""
      ],
      "execution_count": null,
      "outputs": []
    }
  ]
}